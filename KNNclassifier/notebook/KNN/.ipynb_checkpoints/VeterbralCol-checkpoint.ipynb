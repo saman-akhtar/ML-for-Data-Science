{
 "cells": [
  {
   "cell_type": "markdown",
   "metadata": {},
   "source": [
    "Name: Saman Akhtar USC ID: 9944619932"
   ]
  },
  {
   "cell_type": "markdown",
   "metadata": {},
   "source": [
    "**Imports**"
   ]
  },
  {
   "cell_type": "code",
   "execution_count": 204,
   "metadata": {},
   "outputs": [],
   "source": [
    "from sklearn import neighbors, metrics, preprocessing as pre\n",
    "import pandas as pd\n",
    "from scipy.io import arff as arff\n",
    "import numpy as np\n",
    "import matplotlib.pyplot as plt\n",
    "import seaborn as sns\n",
    "from sklearn.model_selection import train_test_split\n",
    "from sklearn.metrics import classification_report, confusion_matrix,f1_score , precision_score\n",
    "from sklearn.model_selection import cross_val_score\n",
    "from sklearn.preprocessing import StandardScaler\n",
    "from sklearn.neighbors import DistanceMetric"
   ]
  },
  {
   "cell_type": "markdown",
   "metadata": {},
   "source": [
    "## Load Data from column_2C arff file"
   ]
  },
  {
   "cell_type": "code",
   "execution_count": 205,
   "metadata": {},
   "outputs": [
    {
     "data": {
      "text/html": [
       "<div>\n",
       "<style scoped>\n",
       "    .dataframe tbody tr th:only-of-type {\n",
       "        vertical-align: middle;\n",
       "    }\n",
       "\n",
       "    .dataframe tbody tr th {\n",
       "        vertical-align: top;\n",
       "    }\n",
       "\n",
       "    .dataframe thead th {\n",
       "        text-align: right;\n",
       "    }\n",
       "</style>\n",
       "<table border=\"1\" class=\"dataframe\">\n",
       "  <thead>\n",
       "    <tr style=\"text-align: right;\">\n",
       "      <th></th>\n",
       "      <th>pelvic_incidence</th>\n",
       "      <th>pelvic_tilt</th>\n",
       "      <th>lumbar_lordosis_angle</th>\n",
       "      <th>sacral_slope</th>\n",
       "      <th>pelvic_radius</th>\n",
       "      <th>degree_spondylolisthesis</th>\n",
       "      <th>class</th>\n",
       "    </tr>\n",
       "  </thead>\n",
       "  <tbody>\n",
       "    <tr>\n",
       "      <th>0</th>\n",
       "      <td>63.027817</td>\n",
       "      <td>22.552586</td>\n",
       "      <td>39.609117</td>\n",
       "      <td>40.475232</td>\n",
       "      <td>98.672917</td>\n",
       "      <td>-0.254400</td>\n",
       "      <td>b'Abnormal'</td>\n",
       "    </tr>\n",
       "    <tr>\n",
       "      <th>1</th>\n",
       "      <td>39.056951</td>\n",
       "      <td>10.060991</td>\n",
       "      <td>25.015378</td>\n",
       "      <td>28.995960</td>\n",
       "      <td>114.405425</td>\n",
       "      <td>4.564259</td>\n",
       "      <td>b'Abnormal'</td>\n",
       "    </tr>\n",
       "    <tr>\n",
       "      <th>2</th>\n",
       "      <td>68.832021</td>\n",
       "      <td>22.218482</td>\n",
       "      <td>50.092194</td>\n",
       "      <td>46.613539</td>\n",
       "      <td>105.985135</td>\n",
       "      <td>-3.530317</td>\n",
       "      <td>b'Abnormal'</td>\n",
       "    </tr>\n",
       "    <tr>\n",
       "      <th>3</th>\n",
       "      <td>69.297008</td>\n",
       "      <td>24.652878</td>\n",
       "      <td>44.311238</td>\n",
       "      <td>44.644130</td>\n",
       "      <td>101.868495</td>\n",
       "      <td>11.211523</td>\n",
       "      <td>b'Abnormal'</td>\n",
       "    </tr>\n",
       "    <tr>\n",
       "      <th>4</th>\n",
       "      <td>49.712859</td>\n",
       "      <td>9.652075</td>\n",
       "      <td>28.317406</td>\n",
       "      <td>40.060784</td>\n",
       "      <td>108.168725</td>\n",
       "      <td>7.918501</td>\n",
       "      <td>b'Abnormal'</td>\n",
       "    </tr>\n",
       "    <tr>\n",
       "      <th>...</th>\n",
       "      <td>...</td>\n",
       "      <td>...</td>\n",
       "      <td>...</td>\n",
       "      <td>...</td>\n",
       "      <td>...</td>\n",
       "      <td>...</td>\n",
       "      <td>...</td>\n",
       "    </tr>\n",
       "    <tr>\n",
       "      <th>305</th>\n",
       "      <td>47.903565</td>\n",
       "      <td>13.616688</td>\n",
       "      <td>36.000000</td>\n",
       "      <td>34.286877</td>\n",
       "      <td>117.449062</td>\n",
       "      <td>-4.245395</td>\n",
       "      <td>b'Normal'</td>\n",
       "    </tr>\n",
       "    <tr>\n",
       "      <th>306</th>\n",
       "      <td>53.936748</td>\n",
       "      <td>20.721496</td>\n",
       "      <td>29.220534</td>\n",
       "      <td>33.215251</td>\n",
       "      <td>114.365845</td>\n",
       "      <td>-0.421010</td>\n",
       "      <td>b'Normal'</td>\n",
       "    </tr>\n",
       "    <tr>\n",
       "      <th>307</th>\n",
       "      <td>61.446597</td>\n",
       "      <td>22.694968</td>\n",
       "      <td>46.170347</td>\n",
       "      <td>38.751628</td>\n",
       "      <td>125.670725</td>\n",
       "      <td>-2.707880</td>\n",
       "      <td>b'Normal'</td>\n",
       "    </tr>\n",
       "    <tr>\n",
       "      <th>308</th>\n",
       "      <td>45.252792</td>\n",
       "      <td>8.693157</td>\n",
       "      <td>41.583126</td>\n",
       "      <td>36.559635</td>\n",
       "      <td>118.545842</td>\n",
       "      <td>0.214750</td>\n",
       "      <td>b'Normal'</td>\n",
       "    </tr>\n",
       "    <tr>\n",
       "      <th>309</th>\n",
       "      <td>33.841641</td>\n",
       "      <td>5.073991</td>\n",
       "      <td>36.641233</td>\n",
       "      <td>28.767649</td>\n",
       "      <td>123.945244</td>\n",
       "      <td>-0.199249</td>\n",
       "      <td>b'Normal'</td>\n",
       "    </tr>\n",
       "  </tbody>\n",
       "</table>\n",
       "<p>310 rows × 7 columns</p>\n",
       "</div>"
      ],
      "text/plain": [
       "     pelvic_incidence  pelvic_tilt  lumbar_lordosis_angle  sacral_slope  \\\n",
       "0           63.027817    22.552586              39.609117     40.475232   \n",
       "1           39.056951    10.060991              25.015378     28.995960   \n",
       "2           68.832021    22.218482              50.092194     46.613539   \n",
       "3           69.297008    24.652878              44.311238     44.644130   \n",
       "4           49.712859     9.652075              28.317406     40.060784   \n",
       "..                ...          ...                    ...           ...   \n",
       "305         47.903565    13.616688              36.000000     34.286877   \n",
       "306         53.936748    20.721496              29.220534     33.215251   \n",
       "307         61.446597    22.694968              46.170347     38.751628   \n",
       "308         45.252792     8.693157              41.583126     36.559635   \n",
       "309         33.841641     5.073991              36.641233     28.767649   \n",
       "\n",
       "     pelvic_radius  degree_spondylolisthesis        class  \n",
       "0        98.672917                 -0.254400  b'Abnormal'  \n",
       "1       114.405425                  4.564259  b'Abnormal'  \n",
       "2       105.985135                 -3.530317  b'Abnormal'  \n",
       "3       101.868495                 11.211523  b'Abnormal'  \n",
       "4       108.168725                  7.918501  b'Abnormal'  \n",
       "..             ...                       ...          ...  \n",
       "305     117.449062                 -4.245395    b'Normal'  \n",
       "306     114.365845                 -0.421010    b'Normal'  \n",
       "307     125.670725                 -2.707880    b'Normal'  \n",
       "308     118.545842                  0.214750    b'Normal'  \n",
       "309     123.945244                 -0.199249    b'Normal'  \n",
       "\n",
       "[310 rows x 7 columns]"
      ]
     },
     "execution_count": 205,
     "metadata": {},
     "output_type": "execute_result"
    }
   ],
   "source": [
    "data = arff.loadarff(\"../../data/vertebral_column_data/column_2C_weka.arff\")\n",
    "orig_df = pd.DataFrame(data[0])\n",
    "orig_df\n"
   ]
  },
  {
   "cell_type": "code",
   "execution_count": 206,
   "metadata": {},
   "outputs": [
    {
     "name": "stdout",
     "output_type": "stream",
     "text": [
      "<class 'pandas.core.frame.DataFrame'>\n",
      "RangeIndex: 310 entries, 0 to 309\n",
      "Data columns (total 7 columns):\n",
      " #   Column                    Non-Null Count  Dtype  \n",
      "---  ------                    --------------  -----  \n",
      " 0   pelvic_incidence          310 non-null    float64\n",
      " 1   pelvic_tilt               310 non-null    float64\n",
      " 2   lumbar_lordosis_angle     310 non-null    float64\n",
      " 3   sacral_slope              310 non-null    float64\n",
      " 4   pelvic_radius             310 non-null    float64\n",
      " 5   degree_spondylolisthesis  310 non-null    float64\n",
      " 6   class                     310 non-null    object \n",
      "dtypes: float64(6), object(1)\n",
      "memory usage: 17.1+ KB\n"
     ]
    }
   ],
   "source": [
    "orig_df.info()"
   ]
  },
  {
   "cell_type": "code",
   "execution_count": 207,
   "metadata": {},
   "outputs": [
    {
     "data": {
      "text/html": [
       "<div>\n",
       "<style scoped>\n",
       "    .dataframe tbody tr th:only-of-type {\n",
       "        vertical-align: middle;\n",
       "    }\n",
       "\n",
       "    .dataframe tbody tr th {\n",
       "        vertical-align: top;\n",
       "    }\n",
       "\n",
       "    .dataframe thead th {\n",
       "        text-align: right;\n",
       "    }\n",
       "</style>\n",
       "<table border=\"1\" class=\"dataframe\">\n",
       "  <thead>\n",
       "    <tr style=\"text-align: right;\">\n",
       "      <th></th>\n",
       "      <th>pelvic_incidence</th>\n",
       "      <th>pelvic_tilt</th>\n",
       "      <th>lumbar_lordosis_angle</th>\n",
       "      <th>sacral_slope</th>\n",
       "      <th>pelvic_radius</th>\n",
       "      <th>degree_spondylolisthesis</th>\n",
       "    </tr>\n",
       "  </thead>\n",
       "  <tbody>\n",
       "    <tr>\n",
       "      <th>count</th>\n",
       "      <td>310.000000</td>\n",
       "      <td>310.000000</td>\n",
       "      <td>310.000000</td>\n",
       "      <td>310.000000</td>\n",
       "      <td>310.000000</td>\n",
       "      <td>310.000000</td>\n",
       "    </tr>\n",
       "    <tr>\n",
       "      <th>mean</th>\n",
       "      <td>60.496653</td>\n",
       "      <td>17.542822</td>\n",
       "      <td>51.930930</td>\n",
       "      <td>42.953831</td>\n",
       "      <td>117.920655</td>\n",
       "      <td>26.296694</td>\n",
       "    </tr>\n",
       "    <tr>\n",
       "      <th>std</th>\n",
       "      <td>17.236520</td>\n",
       "      <td>10.008330</td>\n",
       "      <td>18.554064</td>\n",
       "      <td>13.423102</td>\n",
       "      <td>13.317377</td>\n",
       "      <td>37.559027</td>\n",
       "    </tr>\n",
       "    <tr>\n",
       "      <th>min</th>\n",
       "      <td>26.147921</td>\n",
       "      <td>-6.554948</td>\n",
       "      <td>14.000000</td>\n",
       "      <td>13.366931</td>\n",
       "      <td>70.082575</td>\n",
       "      <td>-11.058179</td>\n",
       "    </tr>\n",
       "    <tr>\n",
       "      <th>25%</th>\n",
       "      <td>46.430294</td>\n",
       "      <td>10.667069</td>\n",
       "      <td>37.000000</td>\n",
       "      <td>33.347122</td>\n",
       "      <td>110.709196</td>\n",
       "      <td>1.603727</td>\n",
       "    </tr>\n",
       "    <tr>\n",
       "      <th>50%</th>\n",
       "      <td>58.691038</td>\n",
       "      <td>16.357689</td>\n",
       "      <td>49.562398</td>\n",
       "      <td>42.404912</td>\n",
       "      <td>118.268178</td>\n",
       "      <td>11.767934</td>\n",
       "    </tr>\n",
       "    <tr>\n",
       "      <th>75%</th>\n",
       "      <td>72.877696</td>\n",
       "      <td>22.120395</td>\n",
       "      <td>63.000000</td>\n",
       "      <td>52.695888</td>\n",
       "      <td>125.467674</td>\n",
       "      <td>41.287352</td>\n",
       "    </tr>\n",
       "    <tr>\n",
       "      <th>max</th>\n",
       "      <td>129.834041</td>\n",
       "      <td>49.431864</td>\n",
       "      <td>125.742385</td>\n",
       "      <td>121.429566</td>\n",
       "      <td>163.071041</td>\n",
       "      <td>418.543082</td>\n",
       "    </tr>\n",
       "  </tbody>\n",
       "</table>\n",
       "</div>"
      ],
      "text/plain": [
       "       pelvic_incidence  pelvic_tilt  lumbar_lordosis_angle  sacral_slope  \\\n",
       "count        310.000000   310.000000             310.000000    310.000000   \n",
       "mean          60.496653    17.542822              51.930930     42.953831   \n",
       "std           17.236520    10.008330              18.554064     13.423102   \n",
       "min           26.147921    -6.554948              14.000000     13.366931   \n",
       "25%           46.430294    10.667069              37.000000     33.347122   \n",
       "50%           58.691038    16.357689              49.562398     42.404912   \n",
       "75%           72.877696    22.120395              63.000000     52.695888   \n",
       "max          129.834041    49.431864             125.742385    121.429566   \n",
       "\n",
       "       pelvic_radius  degree_spondylolisthesis  \n",
       "count     310.000000                310.000000  \n",
       "mean      117.920655                 26.296694  \n",
       "std        13.317377                 37.559027  \n",
       "min        70.082575                -11.058179  \n",
       "25%       110.709196                  1.603727  \n",
       "50%       118.268178                 11.767934  \n",
       "75%       125.467674                 41.287352  \n",
       "max       163.071041                418.543082  "
      ]
     },
     "execution_count": 207,
     "metadata": {},
     "output_type": "execute_result"
    }
   ],
   "source": [
    "orig_df.describe()\n"
   ]
  },
  {
   "cell_type": "code",
   "execution_count": 208,
   "metadata": {},
   "outputs": [
    {
     "data": {
      "text/plain": [
       "array([b'Abnormal', b'Normal'], dtype=object)"
      ]
     },
     "execution_count": 208,
     "metadata": {},
     "output_type": "execute_result"
    }
   ],
   "source": [
    "orig_df[\"class\"].unique()"
   ]
  },
  {
   "cell_type": "markdown",
   "metadata": {},
   "source": [
    "## Preprocessing and Explolatory data analysis:"
   ]
  },
  {
   "cell_type": "code",
   "execution_count": 209,
   "metadata": {},
   "outputs": [],
   "source": [
    "df = orig_df.copy()"
   ]
  },
  {
   "cell_type": "markdown",
   "metadata": {},
   "source": [
    "### Changing class categorical label to numerical value :NO = 0 and AB = 1"
   ]
  },
  {
   "cell_type": "code",
   "execution_count": 210,
   "metadata": {},
   "outputs": [
    {
     "data": {
      "text/html": [
       "<div>\n",
       "<style scoped>\n",
       "    .dataframe tbody tr th:only-of-type {\n",
       "        vertical-align: middle;\n",
       "    }\n",
       "\n",
       "    .dataframe tbody tr th {\n",
       "        vertical-align: top;\n",
       "    }\n",
       "\n",
       "    .dataframe thead th {\n",
       "        text-align: right;\n",
       "    }\n",
       "</style>\n",
       "<table border=\"1\" class=\"dataframe\">\n",
       "  <thead>\n",
       "    <tr style=\"text-align: right;\">\n",
       "      <th></th>\n",
       "      <th>pelvic_incidence</th>\n",
       "      <th>pelvic_tilt</th>\n",
       "      <th>lumbar_lordosis_angle</th>\n",
       "      <th>sacral_slope</th>\n",
       "      <th>pelvic_radius</th>\n",
       "      <th>degree_spondylolisthesis</th>\n",
       "      <th>class</th>\n",
       "    </tr>\n",
       "  </thead>\n",
       "  <tbody>\n",
       "    <tr>\n",
       "      <th>0</th>\n",
       "      <td>63.027817</td>\n",
       "      <td>22.552586</td>\n",
       "      <td>39.609117</td>\n",
       "      <td>40.475232</td>\n",
       "      <td>98.672917</td>\n",
       "      <td>-0.254400</td>\n",
       "      <td>1</td>\n",
       "    </tr>\n",
       "    <tr>\n",
       "      <th>1</th>\n",
       "      <td>39.056951</td>\n",
       "      <td>10.060991</td>\n",
       "      <td>25.015378</td>\n",
       "      <td>28.995960</td>\n",
       "      <td>114.405425</td>\n",
       "      <td>4.564259</td>\n",
       "      <td>1</td>\n",
       "    </tr>\n",
       "    <tr>\n",
       "      <th>2</th>\n",
       "      <td>68.832021</td>\n",
       "      <td>22.218482</td>\n",
       "      <td>50.092194</td>\n",
       "      <td>46.613539</td>\n",
       "      <td>105.985135</td>\n",
       "      <td>-3.530317</td>\n",
       "      <td>1</td>\n",
       "    </tr>\n",
       "    <tr>\n",
       "      <th>3</th>\n",
       "      <td>69.297008</td>\n",
       "      <td>24.652878</td>\n",
       "      <td>44.311238</td>\n",
       "      <td>44.644130</td>\n",
       "      <td>101.868495</td>\n",
       "      <td>11.211523</td>\n",
       "      <td>1</td>\n",
       "    </tr>\n",
       "    <tr>\n",
       "      <th>4</th>\n",
       "      <td>49.712859</td>\n",
       "      <td>9.652075</td>\n",
       "      <td>28.317406</td>\n",
       "      <td>40.060784</td>\n",
       "      <td>108.168725</td>\n",
       "      <td>7.918501</td>\n",
       "      <td>1</td>\n",
       "    </tr>\n",
       "    <tr>\n",
       "      <th>...</th>\n",
       "      <td>...</td>\n",
       "      <td>...</td>\n",
       "      <td>...</td>\n",
       "      <td>...</td>\n",
       "      <td>...</td>\n",
       "      <td>...</td>\n",
       "      <td>...</td>\n",
       "    </tr>\n",
       "    <tr>\n",
       "      <th>305</th>\n",
       "      <td>47.903565</td>\n",
       "      <td>13.616688</td>\n",
       "      <td>36.000000</td>\n",
       "      <td>34.286877</td>\n",
       "      <td>117.449062</td>\n",
       "      <td>-4.245395</td>\n",
       "      <td>0</td>\n",
       "    </tr>\n",
       "    <tr>\n",
       "      <th>306</th>\n",
       "      <td>53.936748</td>\n",
       "      <td>20.721496</td>\n",
       "      <td>29.220534</td>\n",
       "      <td>33.215251</td>\n",
       "      <td>114.365845</td>\n",
       "      <td>-0.421010</td>\n",
       "      <td>0</td>\n",
       "    </tr>\n",
       "    <tr>\n",
       "      <th>307</th>\n",
       "      <td>61.446597</td>\n",
       "      <td>22.694968</td>\n",
       "      <td>46.170347</td>\n",
       "      <td>38.751628</td>\n",
       "      <td>125.670725</td>\n",
       "      <td>-2.707880</td>\n",
       "      <td>0</td>\n",
       "    </tr>\n",
       "    <tr>\n",
       "      <th>308</th>\n",
       "      <td>45.252792</td>\n",
       "      <td>8.693157</td>\n",
       "      <td>41.583126</td>\n",
       "      <td>36.559635</td>\n",
       "      <td>118.545842</td>\n",
       "      <td>0.214750</td>\n",
       "      <td>0</td>\n",
       "    </tr>\n",
       "    <tr>\n",
       "      <th>309</th>\n",
       "      <td>33.841641</td>\n",
       "      <td>5.073991</td>\n",
       "      <td>36.641233</td>\n",
       "      <td>28.767649</td>\n",
       "      <td>123.945244</td>\n",
       "      <td>-0.199249</td>\n",
       "      <td>0</td>\n",
       "    </tr>\n",
       "  </tbody>\n",
       "</table>\n",
       "<p>310 rows × 7 columns</p>\n",
       "</div>"
      ],
      "text/plain": [
       "     pelvic_incidence  pelvic_tilt  lumbar_lordosis_angle  sacral_slope  \\\n",
       "0           63.027817    22.552586              39.609117     40.475232   \n",
       "1           39.056951    10.060991              25.015378     28.995960   \n",
       "2           68.832021    22.218482              50.092194     46.613539   \n",
       "3           69.297008    24.652878              44.311238     44.644130   \n",
       "4           49.712859     9.652075              28.317406     40.060784   \n",
       "..                ...          ...                    ...           ...   \n",
       "305         47.903565    13.616688              36.000000     34.286877   \n",
       "306         53.936748    20.721496              29.220534     33.215251   \n",
       "307         61.446597    22.694968              46.170347     38.751628   \n",
       "308         45.252792     8.693157              41.583126     36.559635   \n",
       "309         33.841641     5.073991              36.641233     28.767649   \n",
       "\n",
       "     pelvic_radius  degree_spondylolisthesis  class  \n",
       "0        98.672917                 -0.254400      1  \n",
       "1       114.405425                  4.564259      1  \n",
       "2       105.985135                 -3.530317      1  \n",
       "3       101.868495                 11.211523      1  \n",
       "4       108.168725                  7.918501      1  \n",
       "..             ...                       ...    ...  \n",
       "305     117.449062                 -4.245395      0  \n",
       "306     114.365845                 -0.421010      0  \n",
       "307     125.670725                 -2.707880      0  \n",
       "308     118.545842                  0.214750      0  \n",
       "309     123.945244                 -0.199249      0  \n",
       "\n",
       "[310 rows x 7 columns]"
      ]
     },
     "execution_count": 210,
     "metadata": {},
     "output_type": "execute_result"
    }
   ],
   "source": [
    "# df['class'] = df['class'].apply(lambda x: [b'Normal',b'Abnormal'].index(x))\n",
    "# df\n",
    "label_map = {b'Abnormal': 1, b'Normal': 0}\n",
    "df['class'] = df['class'].map(label_map)\n",
    "df['class'] = np.array(df['class'] )\n",
    "df\n",
    "# le = pre.LabelEncoder()\n",
    "# le.fit_transform(df[\"class\"])\n",
    "# df[\"class_label\"] = le.fit_transform(df[\"class\"])\n",
    "# le.classes_ # LabelEncoder was assigning opposit numerical value. As it assign value alphabetically.#https://stackoverflow.com/questions/38749305/labelencoder-order-of-fit-for-a-pandas-df #https://github.com/scikit-learn/scikit-learn/issues/12086\n",
    "#df[\"class_label\"].value_counts()\n",
    "#df[\"class\"].value_counts()\n",
    "#df = df.drop(\"class_label\", axis= \"columns\")\n",
    "# df"
   ]
  },
  {
   "cell_type": "markdown",
   "metadata": {},
   "source": [
    "\n",
    "##### i. Make scatterplots of the independent variables in the dataset. Use color to show Classes 0 and 1.\n"
   ]
  },
  {
   "cell_type": "code",
   "execution_count": 211,
   "metadata": {},
   "outputs": [
    {
     "data": {
      "image/png": "[encoded data removed]",
      "text/plain": [
       "<Figure size 1122.38x1080 with 42 Axes>"
      ]
     },
     "metadata": {
      "needs_background": "light"
     },
     "output_type": "display_data"
    }
   ],
   "source": [
    "figure = sns.pairplot(df,vars = [\"pelvic_incidence\",\n",
    " \"pelvic_tilt\",\n",
    " \"lumbar_lordosis_angle\",\n",
    " \"sacral_slope\",\n",
    " \"pelvic_radius\",\n",
    " \"degree_spondylolisthesis\"], hue = 'class')\n",
    "plt.tight_layout()\n",
    "plt.subplots_adjust(top = .93 )\n",
    "figure._legend.set_bbox_to_anchor((1.03, 1))\n",
    "figure._legend.set_title('Class: NO(0) AB(1)')\n",
    "figure.fig.suptitle(\"Scatterplot of all the independent variables in the dataset \", fontsize = 14, alpha = 0.9, weight = 'bold')\n",
    "plt.show()\n"
   ]
  },
  {
   "cell_type": "markdown",
   "metadata": {},
   "source": [
    "##### ii. Make boxplots for each of the independent variables. Use color to show Classes 0 and 1 (see ISLR p. 129).\n"
   ]
  },
  {
   "cell_type": "code",
   "execution_count": 212,
   "metadata": {},
   "outputs": [
    {
     "data": {
      "text/plain": [
       "<matplotlib.axes._subplots.AxesSubplot at 0x16cc946bb80>"
      ]
     },
     "execution_count": 212,
     "metadata": {},
     "output_type": "execute_result"
    },
    {
     "data": {
      "image/png": "[encoded data removed]",
      "text/plain": [
       "<Figure size 1080x720 with 6 Axes>"
      ]
     },
     "metadata": {
      "needs_background": "light"
     },
     "output_type": "display_data"
    }
   ],
   "source": [
    "fig, axes = plt.subplots(2, 3, figsize=(15, 10))\n",
    "\n",
    "fig.suptitle('Boxplots for each of the independent variables ')\n",
    "sns.boxplot(ax=axes[0, 0], data=df, x=df['class'], y = df['pelvic_incidence'], hue = \"class\")\n",
    "sns.boxplot(ax=axes[0, 1], data=df, x=df['class'], y=df['pelvic_tilt'], hue = \"class\")\n",
    "sns.boxplot(ax=axes[0, 2], data=df, x=df['class'], y=df['lumbar_lordosis_angle'], hue = \"class\")\n",
    "sns.boxplot(ax=axes[1, 0], data=df, x=df['class'], y=df['sacral_slope'], hue = \"class\")\n",
    "sns.boxplot(ax=axes[1, 1], data=df, x=df['class'], y=df['pelvic_radius'], hue = \"class\")\n",
    "sns.boxplot(ax=axes[1, 2], data=df, x=df['class'], y=df['degree_spondylolisthesis'], hue = \"class\")\n"
   ]
  },
  {
   "cell_type": "markdown",
   "metadata": {},
   "source": [
    "##### iii.  Select the first 70 rows of Class 0 and the first 140 rows of Class 1 as the training set and the rest of the data as the test set.\n"
   ]
  },
  {
   "cell_type": "code",
   "execution_count": 213,
   "metadata": {},
   "outputs": [
    {
     "data": {
      "text/html": [
       "<div>\n",
       "<style scoped>\n",
       "    .dataframe tbody tr th:only-of-type {\n",
       "        vertical-align: middle;\n",
       "    }\n",
       "\n",
       "    .dataframe tbody tr th {\n",
       "        vertical-align: top;\n",
       "    }\n",
       "\n",
       "    .dataframe thead th {\n",
       "        text-align: right;\n",
       "    }\n",
       "</style>\n",
       "<table border=\"1\" class=\"dataframe\">\n",
       "  <thead>\n",
       "    <tr style=\"text-align: right;\">\n",
       "      <th></th>\n",
       "      <th>pelvic_incidence</th>\n",
       "      <th>pelvic_tilt</th>\n",
       "      <th>lumbar_lordosis_angle</th>\n",
       "      <th>sacral_slope</th>\n",
       "      <th>pelvic_radius</th>\n",
       "      <th>degree_spondylolisthesis</th>\n",
       "      <th>class</th>\n",
       "    </tr>\n",
       "  </thead>\n",
       "  <tbody>\n",
       "    <tr>\n",
       "      <th>210</th>\n",
       "      <td>38.505273</td>\n",
       "      <td>16.964297</td>\n",
       "      <td>35.112814</td>\n",
       "      <td>21.540976</td>\n",
       "      <td>127.632875</td>\n",
       "      <td>7.986683</td>\n",
       "      <td>0</td>\n",
       "    </tr>\n",
       "    <tr>\n",
       "      <th>211</th>\n",
       "      <td>54.920858</td>\n",
       "      <td>18.968430</td>\n",
       "      <td>51.601455</td>\n",
       "      <td>35.952428</td>\n",
       "      <td>125.846646</td>\n",
       "      <td>2.001642</td>\n",
       "      <td>0</td>\n",
       "    </tr>\n",
       "    <tr>\n",
       "      <th>212</th>\n",
       "      <td>44.362490</td>\n",
       "      <td>8.945435</td>\n",
       "      <td>46.902096</td>\n",
       "      <td>35.417055</td>\n",
       "      <td>129.220682</td>\n",
       "      <td>4.994195</td>\n",
       "      <td>0</td>\n",
       "    </tr>\n",
       "    <tr>\n",
       "      <th>213</th>\n",
       "      <td>48.318931</td>\n",
       "      <td>17.452121</td>\n",
       "      <td>48.000000</td>\n",
       "      <td>30.866809</td>\n",
       "      <td>128.980308</td>\n",
       "      <td>-0.910941</td>\n",
       "      <td>0</td>\n",
       "    </tr>\n",
       "    <tr>\n",
       "      <th>214</th>\n",
       "      <td>45.701789</td>\n",
       "      <td>10.659859</td>\n",
       "      <td>42.577846</td>\n",
       "      <td>35.041929</td>\n",
       "      <td>130.178314</td>\n",
       "      <td>-3.388910</td>\n",
       "      <td>0</td>\n",
       "    </tr>\n",
       "    <tr>\n",
       "      <th>...</th>\n",
       "      <td>...</td>\n",
       "      <td>...</td>\n",
       "      <td>...</td>\n",
       "      <td>...</td>\n",
       "      <td>...</td>\n",
       "      <td>...</td>\n",
       "      <td>...</td>\n",
       "    </tr>\n",
       "    <tr>\n",
       "      <th>135</th>\n",
       "      <td>77.121344</td>\n",
       "      <td>30.349874</td>\n",
       "      <td>77.481083</td>\n",
       "      <td>46.771470</td>\n",
       "      <td>110.611148</td>\n",
       "      <td>82.093607</td>\n",
       "      <td>1</td>\n",
       "    </tr>\n",
       "    <tr>\n",
       "      <th>136</th>\n",
       "      <td>88.024499</td>\n",
       "      <td>39.844669</td>\n",
       "      <td>81.774473</td>\n",
       "      <td>48.179830</td>\n",
       "      <td>116.601538</td>\n",
       "      <td>56.766083</td>\n",
       "      <td>1</td>\n",
       "    </tr>\n",
       "    <tr>\n",
       "      <th>137</th>\n",
       "      <td>83.396606</td>\n",
       "      <td>34.310989</td>\n",
       "      <td>78.423293</td>\n",
       "      <td>49.085617</td>\n",
       "      <td>110.466516</td>\n",
       "      <td>49.672096</td>\n",
       "      <td>1</td>\n",
       "    </tr>\n",
       "    <tr>\n",
       "      <th>138</th>\n",
       "      <td>72.054034</td>\n",
       "      <td>24.700737</td>\n",
       "      <td>79.874016</td>\n",
       "      <td>47.353297</td>\n",
       "      <td>107.172358</td>\n",
       "      <td>56.426159</td>\n",
       "      <td>1</td>\n",
       "    </tr>\n",
       "    <tr>\n",
       "      <th>139</th>\n",
       "      <td>85.095503</td>\n",
       "      <td>21.069897</td>\n",
       "      <td>91.734792</td>\n",
       "      <td>64.025606</td>\n",
       "      <td>109.062312</td>\n",
       "      <td>38.032831</td>\n",
       "      <td>1</td>\n",
       "    </tr>\n",
       "  </tbody>\n",
       "</table>\n",
       "<p>210 rows × 7 columns</p>\n",
       "</div>"
      ],
      "text/plain": [
       "     pelvic_incidence  pelvic_tilt  lumbar_lordosis_angle  sacral_slope  \\\n",
       "210         38.505273    16.964297              35.112814     21.540976   \n",
       "211         54.920858    18.968430              51.601455     35.952428   \n",
       "212         44.362490     8.945435              46.902096     35.417055   \n",
       "213         48.318931    17.452121              48.000000     30.866809   \n",
       "214         45.701789    10.659859              42.577846     35.041929   \n",
       "..                ...          ...                    ...           ...   \n",
       "135         77.121344    30.349874              77.481083     46.771470   \n",
       "136         88.024499    39.844669              81.774473     48.179830   \n",
       "137         83.396606    34.310989              78.423293     49.085617   \n",
       "138         72.054034    24.700737              79.874016     47.353297   \n",
       "139         85.095503    21.069897              91.734792     64.025606   \n",
       "\n",
       "     pelvic_radius  degree_spondylolisthesis  class  \n",
       "210     127.632875                  7.986683      0  \n",
       "211     125.846646                  2.001642      0  \n",
       "212     129.220682                  4.994195      0  \n",
       "213     128.980308                 -0.910941      0  \n",
       "214     130.178314                 -3.388910      0  \n",
       "..             ...                       ...    ...  \n",
       "135     110.611148                 82.093607      1  \n",
       "136     116.601538                 56.766083      1  \n",
       "137     110.466516                 49.672096      1  \n",
       "138     107.172358                 56.426159      1  \n",
       "139     109.062312                 38.032831      1  \n",
       "\n",
       "[210 rows x 7 columns]"
      ]
     },
     "execution_count": 213,
     "metadata": {},
     "output_type": "execute_result"
    }
   ],
   "source": [
    "train = pd.concat([df.loc[df[\"class\"] == 0][0:70], df.loc[df[\"class\"] == 1][:140]])\n",
    "train"
   ]
  },
  {
   "cell_type": "code",
   "execution_count": 214,
   "metadata": {},
   "outputs": [
    {
     "data": {
      "text/html": [
       "<div>\n",
       "<style scoped>\n",
       "    .dataframe tbody tr th:only-of-type {\n",
       "        vertical-align: middle;\n",
       "    }\n",
       "\n",
       "    .dataframe tbody tr th {\n",
       "        vertical-align: top;\n",
       "    }\n",
       "\n",
       "    .dataframe thead th {\n",
       "        text-align: right;\n",
       "    }\n",
       "</style>\n",
       "<table border=\"1\" class=\"dataframe\">\n",
       "  <thead>\n",
       "    <tr style=\"text-align: right;\">\n",
       "      <th></th>\n",
       "      <th>pelvic_incidence</th>\n",
       "      <th>pelvic_tilt</th>\n",
       "      <th>lumbar_lordosis_angle</th>\n",
       "      <th>sacral_slope</th>\n",
       "      <th>pelvic_radius</th>\n",
       "      <th>degree_spondylolisthesis</th>\n",
       "      <th>class</th>\n",
       "    </tr>\n",
       "  </thead>\n",
       "  <tbody>\n",
       "    <tr>\n",
       "      <th>280</th>\n",
       "      <td>50.086153</td>\n",
       "      <td>13.430044</td>\n",
       "      <td>34.457541</td>\n",
       "      <td>36.656108</td>\n",
       "      <td>119.134622</td>\n",
       "      <td>3.089484</td>\n",
       "      <td>0</td>\n",
       "    </tr>\n",
       "    <tr>\n",
       "      <th>281</th>\n",
       "      <td>64.261507</td>\n",
       "      <td>14.497866</td>\n",
       "      <td>43.902504</td>\n",
       "      <td>49.763642</td>\n",
       "      <td>115.388268</td>\n",
       "      <td>5.951454</td>\n",
       "      <td>0</td>\n",
       "    </tr>\n",
       "    <tr>\n",
       "      <th>282</th>\n",
       "      <td>53.683380</td>\n",
       "      <td>13.447022</td>\n",
       "      <td>41.584297</td>\n",
       "      <td>40.236358</td>\n",
       "      <td>113.913703</td>\n",
       "      <td>2.737035</td>\n",
       "      <td>0</td>\n",
       "    </tr>\n",
       "    <tr>\n",
       "      <th>283</th>\n",
       "      <td>48.995958</td>\n",
       "      <td>13.113820</td>\n",
       "      <td>51.873520</td>\n",
       "      <td>35.882137</td>\n",
       "      <td>126.398188</td>\n",
       "      <td>0.535472</td>\n",
       "      <td>0</td>\n",
       "    </tr>\n",
       "    <tr>\n",
       "      <th>284</th>\n",
       "      <td>59.167612</td>\n",
       "      <td>14.562749</td>\n",
       "      <td>43.199158</td>\n",
       "      <td>44.604863</td>\n",
       "      <td>121.035642</td>\n",
       "      <td>2.830504</td>\n",
       "      <td>0</td>\n",
       "    </tr>\n",
       "    <tr>\n",
       "      <th>...</th>\n",
       "      <td>...</td>\n",
       "      <td>...</td>\n",
       "      <td>...</td>\n",
       "      <td>...</td>\n",
       "      <td>...</td>\n",
       "      <td>...</td>\n",
       "      <td>...</td>\n",
       "    </tr>\n",
       "    <tr>\n",
       "      <th>205</th>\n",
       "      <td>80.111572</td>\n",
       "      <td>33.942432</td>\n",
       "      <td>85.101608</td>\n",
       "      <td>46.169139</td>\n",
       "      <td>125.593624</td>\n",
       "      <td>100.292107</td>\n",
       "      <td>1</td>\n",
       "    </tr>\n",
       "    <tr>\n",
       "      <th>206</th>\n",
       "      <td>95.480229</td>\n",
       "      <td>46.550053</td>\n",
       "      <td>59.000000</td>\n",
       "      <td>48.930176</td>\n",
       "      <td>96.683903</td>\n",
       "      <td>77.283072</td>\n",
       "      <td>1</td>\n",
       "    </tr>\n",
       "    <tr>\n",
       "      <th>207</th>\n",
       "      <td>74.094731</td>\n",
       "      <td>18.823727</td>\n",
       "      <td>76.032156</td>\n",
       "      <td>55.271004</td>\n",
       "      <td>128.405731</td>\n",
       "      <td>73.388216</td>\n",
       "      <td>1</td>\n",
       "    </tr>\n",
       "    <tr>\n",
       "      <th>208</th>\n",
       "      <td>87.679087</td>\n",
       "      <td>20.365613</td>\n",
       "      <td>93.822416</td>\n",
       "      <td>67.313473</td>\n",
       "      <td>120.944829</td>\n",
       "      <td>76.730629</td>\n",
       "      <td>1</td>\n",
       "    </tr>\n",
       "    <tr>\n",
       "      <th>209</th>\n",
       "      <td>48.259920</td>\n",
       "      <td>16.417462</td>\n",
       "      <td>36.329137</td>\n",
       "      <td>31.842457</td>\n",
       "      <td>94.882336</td>\n",
       "      <td>28.343799</td>\n",
       "      <td>1</td>\n",
       "    </tr>\n",
       "  </tbody>\n",
       "</table>\n",
       "<p>100 rows × 7 columns</p>\n",
       "</div>"
      ],
      "text/plain": [
       "     pelvic_incidence  pelvic_tilt  lumbar_lordosis_angle  sacral_slope  \\\n",
       "280         50.086153    13.430044              34.457541     36.656108   \n",
       "281         64.261507    14.497866              43.902504     49.763642   \n",
       "282         53.683380    13.447022              41.584297     40.236358   \n",
       "283         48.995958    13.113820              51.873520     35.882137   \n",
       "284         59.167612    14.562749              43.199158     44.604863   \n",
       "..                ...          ...                    ...           ...   \n",
       "205         80.111572    33.942432              85.101608     46.169139   \n",
       "206         95.480229    46.550053              59.000000     48.930176   \n",
       "207         74.094731    18.823727              76.032156     55.271004   \n",
       "208         87.679087    20.365613              93.822416     67.313473   \n",
       "209         48.259920    16.417462              36.329137     31.842457   \n",
       "\n",
       "     pelvic_radius  degree_spondylolisthesis  class  \n",
       "280     119.134622                  3.089484      0  \n",
       "281     115.388268                  5.951454      0  \n",
       "282     113.913703                  2.737035      0  \n",
       "283     126.398188                  0.535472      0  \n",
       "284     121.035642                  2.830504      0  \n",
       "..             ...                       ...    ...  \n",
       "205     125.593624                100.292107      1  \n",
       "206      96.683903                 77.283072      1  \n",
       "207     128.405731                 73.388216      1  \n",
       "208     120.944829                 76.730629      1  \n",
       "209      94.882336                 28.343799      1  \n",
       "\n",
       "[100 rows x 7 columns]"
      ]
     },
     "execution_count": 214,
     "metadata": {},
     "output_type": "execute_result"
    }
   ],
   "source": [
    "\n",
    "test = pd.concat([df.loc[df[\"class\"] == 0][70:], df.loc[df[\"class\"] == 1][140:]])\n",
    "test"
   ]
  },
  {
   "cell_type": "markdown",
   "metadata": {},
   "source": [
    "## Classification using KNN on Vertebral Column Data Set:"
   ]
  },
  {
   "cell_type": "markdown",
   "metadata": {},
   "source": [
    "##### Train Test Split"
   ]
  },
  {
   "cell_type": "markdown",
   "metadata": {},
   "source": [
    "Dividing testing set to features and label"
   ]
  },
  {
   "cell_type": "code",
   "execution_count": 215,
   "metadata": {},
   "outputs": [
    {
     "name": "stdout",
     "output_type": "stream",
     "text": [
      "     pelvic_incidence  pelvic_tilt  lumbar_lordosis_angle  sacral_slope  \\\n",
      "280         50.086153    13.430044              34.457541     36.656108   \n",
      "281         64.261507    14.497866              43.902504     49.763642   \n",
      "282         53.683380    13.447022              41.584297     40.236358   \n",
      "283         48.995958    13.113820              51.873520     35.882137   \n",
      "284         59.167612    14.562749              43.199158     44.604863   \n",
      "..                ...          ...                    ...           ...   \n",
      "205         80.111572    33.942432              85.101608     46.169139   \n",
      "206         95.480229    46.550053              59.000000     48.930176   \n",
      "207         74.094731    18.823727              76.032156     55.271004   \n",
      "208         87.679087    20.365613              93.822416     67.313473   \n",
      "209         48.259920    16.417462              36.329137     31.842457   \n",
      "\n",
      "     pelvic_radius  degree_spondylolisthesis  \n",
      "280     119.134622                  3.089484  \n",
      "281     115.388268                  5.951454  \n",
      "282     113.913703                  2.737035  \n",
      "283     126.398188                  0.535472  \n",
      "284     121.035642                  2.830504  \n",
      "..             ...                       ...  \n",
      "205     125.593624                100.292107  \n",
      "206      96.683903                 77.283072  \n",
      "207     128.405731                 73.388216  \n",
      "208     120.944829                 76.730629  \n",
      "209      94.882336                 28.343799  \n",
      "\n",
      "[100 rows x 6 columns]\n"
     ]
    },
    {
     "data": {
      "text/plain": [
       "280    0\n",
       "281    0\n",
       "282    0\n",
       "283    0\n",
       "284    0\n",
       "      ..\n",
       "205    1\n",
       "206    1\n",
       "207    1\n",
       "208    1\n",
       "209    1\n",
       "Name: class, Length: 100, dtype: int64"
      ]
     },
     "execution_count": 215,
     "metadata": {},
     "output_type": "execute_result"
    }
   ],
   "source": [
    "\n",
    "X_test = test.loc[:, test.columns != 'class']\n",
    "print(X_test)\n",
    "y_test = test[\"class\"]\n",
    "y_test"
   ]
  },
  {
   "cell_type": "markdown",
   "metadata": {},
   "source": [
    "Dividing training set to features and label"
   ]
  },
  {
   "cell_type": "code",
   "execution_count": 216,
   "metadata": {},
   "outputs": [
    {
     "name": "stdout",
     "output_type": "stream",
     "text": [
      "     pelvic_incidence  pelvic_tilt  lumbar_lordosis_angle  sacral_slope  \\\n",
      "210         38.505273    16.964297              35.112814     21.540976   \n",
      "211         54.920858    18.968430              51.601455     35.952428   \n",
      "212         44.362490     8.945435              46.902096     35.417055   \n",
      "213         48.318931    17.452121              48.000000     30.866809   \n",
      "214         45.701789    10.659859              42.577846     35.041929   \n",
      "..                ...          ...                    ...           ...   \n",
      "135         77.121344    30.349874              77.481083     46.771470   \n",
      "136         88.024499    39.844669              81.774473     48.179830   \n",
      "137         83.396606    34.310989              78.423293     49.085617   \n",
      "138         72.054034    24.700737              79.874016     47.353297   \n",
      "139         85.095503    21.069897              91.734792     64.025606   \n",
      "\n",
      "     pelvic_radius  degree_spondylolisthesis  \n",
      "210     127.632875                  7.986683  \n",
      "211     125.846646                  2.001642  \n",
      "212     129.220682                  4.994195  \n",
      "213     128.980308                 -0.910941  \n",
      "214     130.178314                 -3.388910  \n",
      "..             ...                       ...  \n",
      "135     110.611148                 82.093607  \n",
      "136     116.601538                 56.766083  \n",
      "137     110.466516                 49.672096  \n",
      "138     107.172358                 56.426159  \n",
      "139     109.062312                 38.032831  \n",
      "\n",
      "[210 rows x 6 columns]\n"
     ]
    },
    {
     "data": {
      "text/plain": [
       "210    0\n",
       "211    0\n",
       "212    0\n",
       "213    0\n",
       "214    0\n",
       "      ..\n",
       "135    1\n",
       "136    1\n",
       "137    1\n",
       "138    1\n",
       "139    1\n",
       "Name: class, Length: 210, dtype: int64"
      ]
     },
     "execution_count": 216,
     "metadata": {},
     "output_type": "execute_result"
    }
   ],
   "source": [
    "X = train.loc[:, train.columns != 'class']\n",
    "print(X)\n",
    "y = train[\"class\"].copy()\n",
    "y\n",
    "\n"
   ]
  },
  {
   "cell_type": "markdown",
   "metadata": {},
   "source": [
    "#### i. Write code for k-nearest neighbors with Euclidean metric (or use a software package)"
   ]
  },
  {
   "cell_type": "markdown",
   "metadata": {},
   "source": [
    "##### Training and Predictions"
   ]
  },
  {
   "cell_type": "markdown",
   "metadata": {},
   "source": [
    "metrics: default=minkowski and p = 2\n",
    "Hence by default euclidean distance is being used"
   ]
  },
  {
   "cell_type": "code",
   "execution_count": 217,
   "metadata": {},
   "outputs": [],
   "source": [
    "knn = neighbors.KNeighborsClassifier(n_neighbors=5, weights= 'uniform')"
   ]
  },
  {
   "cell_type": "code",
   "execution_count": 218,
   "metadata": {},
   "outputs": [
    {
     "data": {
      "text/plain": [
       "KNeighborsClassifier()"
      ]
     },
     "execution_count": 218,
     "metadata": {},
     "output_type": "execute_result"
    }
   ],
   "source": [
    "knn.fit(X, y)"
   ]
  },
  {
   "cell_type": "code",
   "execution_count": 219,
   "metadata": {},
   "outputs": [
    {
     "data": {
      "text/plain": [
       "array([1, 0, 0, 0, 0, 0, 0, 1, 0, 0, 1, 1, 0, 0, 0, 0, 1, 1, 0, 1, 0, 0,\n",
       "       1, 0, 0, 1, 1, 0, 0, 0, 1, 1, 1, 1, 1, 1, 1, 1, 1, 1, 1, 1, 1, 1,\n",
       "       1, 1, 1, 1, 1, 1, 1, 1, 1, 1, 1, 1, 1, 1, 1, 1, 1, 1, 1, 1, 1, 1,\n",
       "       1, 1, 1, 1, 1, 1, 1, 1, 1, 1, 1, 1, 1, 1, 1, 1, 1, 1, 1, 1, 1, 1,\n",
       "       1, 1, 1, 1, 1, 1, 1, 1, 1, 1, 1, 1], dtype=int64)"
      ]
     },
     "execution_count": 219,
     "metadata": {},
     "output_type": "execute_result"
    }
   ],
   "source": [
    "prediction = knn.predict(X_test)\n",
    "prediction"
   ]
  },
  {
   "cell_type": "markdown",
   "metadata": {},
   "source": [
    "Ideal value of K is not selected yet. It will be done after testing and evaluation. Random value of k = 5 was selected in the start"
   ]
  },
  {
   "cell_type": "code",
   "execution_count": 220,
   "metadata": {},
   "outputs": [
    {
     "name": "stdout",
     "output_type": "stream",
     "text": [
      "[[20 10]\n",
      " [ 0 70]]\n"
     ]
    }
   ],
   "source": [
    "print(confusion_matrix(y_test, prediction))"
   ]
  },
  {
   "cell_type": "code",
   "execution_count": 221,
   "metadata": {},
   "outputs": [
    {
     "name": "stdout",
     "output_type": "stream",
     "text": [
      "              precision    recall  f1-score   support\n",
      "\n",
      "           0       1.00      0.67      0.80        30\n",
      "           1       0.88      1.00      0.93        70\n",
      "\n",
      "    accuracy                           0.90       100\n",
      "   macro avg       0.94      0.83      0.87       100\n",
      "weighted avg       0.91      0.90      0.89       100\n",
      "\n"
     ]
    }
   ],
   "source": [
    "print(classification_report(y_test,prediction))"
   ]
  },
  {
   "cell_type": "code",
   "execution_count": 222,
   "metadata": {},
   "outputs": [
    {
     "data": {
      "text/plain": [
       "0.9"
      ]
     },
     "execution_count": 222,
     "metadata": {},
     "output_type": "execute_result"
    }
   ],
   "source": [
    "metrics.accuracy_score(y_test, prediction)\n"
   ]
  },
  {
   "cell_type": "markdown",
   "metadata": {},
   "source": [
    "#### ii Test all the data in the test database with k nearest neighbors. Take de- cisions by majority polling. Plot train and test errors in terms of k for k ∈ { 208 , 205 , . . . , 7 , 4 , 1 , } (in reverse order). You are welcome to use smaller increments of k . Which k ∗ is the most suitable k among those values? Cal- culate the confusion matrix, true positive rate, true negative rate, precision, and F 1 -score when k = k ∗"
   ]
  },
  {
   "cell_type": "code",
   "execution_count": 223,
   "metadata": {},
   "outputs": [],
   "source": [
    "# N_jobs is used to specify the number of jobs to run in parallel\n",
    "knn = neighbors.KNeighborsClassifier(n_jobs=-1, weights= 'uniform')\n",
    "\n",
    "error_rate_train = np.array([])\n",
    "error_rate_test = np.array([])\n",
    "k_val = np.array([])\n",
    "\n",
    "for k in range(208, 0, -3):\n",
    "    k_val = np.append(k_val, k)\n",
    "\n",
    "    # Setting the n neighbours in the interval of 3\n",
    "    knn.set_params(n_neighbors=k)\n",
    "    knn.fit(X, y)\n",
    "    pred_train = knn.predict(X)\n",
    "    error_rate_train = np.append(error_rate_train, (np.mean(pred_train != y)))\n",
    "    pred_test = knn.predict(X_test)\n",
    "    error_rate_test = np.append(error_rate_test, (np.mean(pred_test != y_test)))\n",
    "    "
   ]
  },
  {
   "cell_type": "code",
   "execution_count": 224,
   "metadata": {},
   "outputs": [
    {
     "data": {
      "text/html": [
       "<div>\n",
       "<style scoped>\n",
       "    .dataframe tbody tr th:only-of-type {\n",
       "        vertical-align: middle;\n",
       "    }\n",
       "\n",
       "    .dataframe tbody tr th {\n",
       "        vertical-align: top;\n",
       "    }\n",
       "\n",
       "    .dataframe thead th {\n",
       "        text-align: right;\n",
       "    }\n",
       "</style>\n",
       "<table border=\"1\" class=\"dataframe\">\n",
       "  <thead>\n",
       "    <tr style=\"text-align: right;\">\n",
       "      <th></th>\n",
       "      <th>k</th>\n",
       "      <th>train_error</th>\n",
       "      <th>test_error</th>\n",
       "    </tr>\n",
       "  </thead>\n",
       "  <tbody>\n",
       "    <tr>\n",
       "      <th>0</th>\n",
       "      <td>208.0</td>\n",
       "      <td>0.333333</td>\n",
       "      <td>0.30</td>\n",
       "    </tr>\n",
       "    <tr>\n",
       "      <th>1</th>\n",
       "      <td>205.0</td>\n",
       "      <td>0.333333</td>\n",
       "      <td>0.30</td>\n",
       "    </tr>\n",
       "    <tr>\n",
       "      <th>2</th>\n",
       "      <td>202.0</td>\n",
       "      <td>0.333333</td>\n",
       "      <td>0.30</td>\n",
       "    </tr>\n",
       "    <tr>\n",
       "      <th>3</th>\n",
       "      <td>199.0</td>\n",
       "      <td>0.333333</td>\n",
       "      <td>0.30</td>\n",
       "    </tr>\n",
       "    <tr>\n",
       "      <th>4</th>\n",
       "      <td>196.0</td>\n",
       "      <td>0.333333</td>\n",
       "      <td>0.30</td>\n",
       "    </tr>\n",
       "    <tr>\n",
       "      <th>...</th>\n",
       "      <td>...</td>\n",
       "      <td>...</td>\n",
       "      <td>...</td>\n",
       "    </tr>\n",
       "    <tr>\n",
       "      <th>65</th>\n",
       "      <td>13.0</td>\n",
       "      <td>0.142857</td>\n",
       "      <td>0.12</td>\n",
       "    </tr>\n",
       "    <tr>\n",
       "      <th>66</th>\n",
       "      <td>10.0</td>\n",
       "      <td>0.133333</td>\n",
       "      <td>0.10</td>\n",
       "    </tr>\n",
       "    <tr>\n",
       "      <th>67</th>\n",
       "      <td>7.0</td>\n",
       "      <td>0.142857</td>\n",
       "      <td>0.12</td>\n",
       "    </tr>\n",
       "    <tr>\n",
       "      <th>68</th>\n",
       "      <td>4.0</td>\n",
       "      <td>0.142857</td>\n",
       "      <td>0.06</td>\n",
       "    </tr>\n",
       "    <tr>\n",
       "      <th>69</th>\n",
       "      <td>1.0</td>\n",
       "      <td>0.000000</td>\n",
       "      <td>0.13</td>\n",
       "    </tr>\n",
       "  </tbody>\n",
       "</table>\n",
       "<p>70 rows × 3 columns</p>\n",
       "</div>"
      ],
      "text/plain": [
       "        k  train_error  test_error\n",
       "0   208.0     0.333333        0.30\n",
       "1   205.0     0.333333        0.30\n",
       "2   202.0     0.333333        0.30\n",
       "3   199.0     0.333333        0.30\n",
       "4   196.0     0.333333        0.30\n",
       "..    ...          ...         ...\n",
       "65   13.0     0.142857        0.12\n",
       "66   10.0     0.133333        0.10\n",
       "67    7.0     0.142857        0.12\n",
       "68    4.0     0.142857        0.06\n",
       "69    1.0     0.000000        0.13\n",
       "\n",
       "[70 rows x 3 columns]"
      ]
     },
     "execution_count": 224,
     "metadata": {},
     "output_type": "execute_result"
    }
   ],
   "source": [
    "error_rate_df = pd.DataFrame(np.column_stack([k_val, error_rate_train, error_rate_test]), \n",
    "                             columns=['k', 'train_error', 'test_error'])\n",
    "error_rate_df"
   ]
  },
  {
   "cell_type": "markdown",
   "metadata": {},
   "source": [
    "Retrieve k* value which is k value of the equivalent minimum test error"
   ]
  },
  {
   "cell_type": "code",
   "execution_count": 225,
   "metadata": {},
   "outputs": [
    {
     "name": "stdout",
     "output_type": "stream",
     "text": [
      "0.06\n"
     ]
    },
    {
     "data": {
      "text/plain": [
       "4"
      ]
     },
     "execution_count": 225,
     "metadata": {},
     "output_type": "execute_result"
    }
   ],
   "source": [
    "min_test = np.min(error_rate_df.test_error)\n",
    "print(min_test)\n",
    "min_k = int(error_rate_df[error_rate_df['test_error'] == min_test]['k'])\n",
    "min_k"
   ]
  },
  {
   "cell_type": "markdown",
   "metadata": {},
   "source": [
    "##### K* = 4. With k = 4, we get lowest test error = 0.6"
   ]
  },
  {
   "cell_type": "code",
   "execution_count": 226,
   "metadata": {},
   "outputs": [
    {
     "data": {
      "image/png": "[encoded data removed]",
      "text/plain": [
       "<Figure size 1200x1200 with 1 Axes>"
      ]
     },
     "metadata": {
      "needs_background": "light"
     },
     "output_type": "display_data"
    }
   ],
   "source": [
    "plt.figure(figsize=(15, 15), dpi=80)\n",
    "axes = plt.gca()\n",
    "\n",
    "# For drawing vertical and horizontal line across k* and its value\n",
    "plt.axvline(x = min_k, linewidth = 1, linestyle='dashed', color ='black')\n",
    "plt.axhline(y = min_test, linewidth = 1, linestyle='dashed', color ='black')\n",
    "\n",
    "# For plotting train and test error\n",
    "plt.plot( 'k', 'train_error', data = error_rate_df, color='blue', linewidth=3, label=\"Training Set Error\")\n",
    "plt.plot( 'k', 'test_error', data = error_rate_df, color='green', linewidth=3, linestyle='dashed', label=\"Testing Set Error\")\n",
    "\n",
    "# Plot the point along with annotation\n",
    "plt.plot(min_k, min_test,'ro',color ='red') \n",
    "ann = plt.annotate(\"(\" +  f'{min_k}' + \", \" + f'{min_test}' + \")\", xy = (min_k, min_test),fontsize = 20, weight = 'bold', \n",
    "                   xytext = (36,0.057), bbox=dict(boxstyle=\"rarrow,pad=0.3\", fc=\"cyan\", ec=\"b\", lw=2))\n",
    "plt.legend(fontsize = 15,fancybox=True, shadow=True, title='Error Set',title_fontsize = 20)\n",
    "plt.title('Error Rate in terms of k', fontsize = 35, weight = 'bold')\n",
    "plt.xlabel('K neighbours', fontsize=30)\n",
    "plt.ylabel('Error Rate',fontsize=30)\n",
    "\n",
    "# Invert x axis\n",
    "plt.gca().invert_xaxis()\n",
    "plt.show()"
   ]
  },
  {
   "cell_type": "code",
   "execution_count": 227,
   "metadata": {},
   "outputs": [
    {
     "name": "stdout",
     "output_type": "stream",
     "text": [
      "F1 score with k = 4 with euclidean metric is 0.9583333333333333\n",
      "Precision score with k = 4 with euclidean metric is 0.9324324324324325\n"
     ]
    },
    {
     "data": {
      "text/plain": [
       "array([0, 0, 0, 0, 0, 0, 0, 0, 0, 0, 0, 1, 0, 0, 0, 0, 0, 1, 0, 0, 0, 0,\n",
       "       1, 0, 0, 1, 1, 0, 0, 0, 1, 1, 1, 1, 1, 1, 1, 1, 1, 1, 1, 1, 1, 1,\n",
       "       1, 1, 1, 1, 1, 1, 1, 1, 1, 1, 1, 1, 1, 1, 1, 1, 1, 0, 1, 1, 1, 1,\n",
       "       1, 1, 1, 1, 1, 1, 1, 1, 1, 1, 1, 1, 1, 1, 1, 1, 1, 1, 1, 1, 1, 1,\n",
       "       1, 1, 1, 1, 1, 1, 1, 1, 1, 1, 1, 1], dtype=int64)"
      ]
     },
     "execution_count": 227,
     "metadata": {},
     "output_type": "execute_result"
    }
   ],
   "source": [
    "# Predict y with k = 4\n",
    "knn.set_params(n_neighbors=4, weights= 'uniform')\n",
    "knn.fit(X, y)\n",
    "y_pred = knn.predict(X_test)\n",
    "f1_scores = f1_score(y_test, y_pred)\n",
    "precision_scores = precision_score(y_test, y_pred)\n",
    "print(\"F1 score with k = 4 with euclidean metric is\", f1_scores)\n",
    "print(\"Precision score with k = 4 with euclidean metric is\", precision_scores)\n",
    "y_pred"
   ]
  },
  {
   "cell_type": "code",
   "execution_count": 228,
   "metadata": {},
   "outputs": [
    {
     "name": "stdout",
     "output_type": "stream",
     "text": [
      "Confusion matrix for k = 4: \n",
      " [[25  5]\n",
      " [ 1 69]]\n"
     ]
    },
    {
     "data": {
      "text/plain": [
       "(25, 5, 1, 69)"
      ]
     },
     "execution_count": 228,
     "metadata": {},
     "output_type": "execute_result"
    }
   ],
   "source": [
    "print(\"Confusion matrix for k = 4: \\n\", confusion_matrix(y_test, y_pred) )\n",
    "\n",
    "# Actual is on y axis and Prediction is on x axis. NO = 0 and AB = 1 \n",
    "# Retreive True Negative, False Positive, False Negative and True Positive from the flatten confusion matrix\n",
    "tn, fp, fn, tp = confusion_matrix(y_test, y_pred).ravel()\n",
    "flat_confusion_matrix = (tn, fp, fn, tp)\n",
    "flat_confusion_matrix"
   ]
  },
  {
   "cell_type": "code",
   "execution_count": 229,
   "metadata": {},
   "outputs": [
    {
     "name": "stdout",
     "output_type": "stream",
     "text": [
      "The True Negative Rate is:  0.8333333333333334\n"
     ]
    }
   ],
   "source": [
    "# Calculate True negative Rate\n",
    "tnr = tn / (tn + fp)\n",
    "print('The True Negative Rate is: ', tnr)"
   ]
  },
  {
   "cell_type": "code",
   "execution_count": 230,
   "metadata": {},
   "outputs": [
    {
     "name": "stdout",
     "output_type": "stream",
     "text": [
      "The True Positive Rate is:  0.9857142857142858\n"
     ]
    }
   ],
   "source": [
    "# Calculate True positive Rate\n",
    "tpr = tp/ (tp + fn)\n",
    "print('The True Positive Rate is: ', tpr)"
   ]
  },
  {
   "cell_type": "code",
   "execution_count": 231,
   "metadata": {},
   "outputs": [
    {
     "name": "stdout",
     "output_type": "stream",
     "text": [
      "Classification report for k = 4: \n",
      "               precision    recall  f1-score   support\n",
      "\n",
      "           0       0.96      0.83      0.89        30\n",
      "           1       0.93      0.99      0.96        70\n",
      "\n",
      "    accuracy                           0.94       100\n",
      "   macro avg       0.95      0.91      0.93       100\n",
      "weighted avg       0.94      0.94      0.94       100\n",
      "\n"
     ]
    }
   ],
   "source": [
    "print(\"Classification report for k = 4: \\n\",classification_report(y_test,y_pred))"
   ]
  },
  {
   "cell_type": "markdown",
   "metadata": {},
   "source": [
    "#### iii) Since the computation time depends on the size of the training set, one may only use a subset of the training set. Plot the best test error rate , 3 which is obtained by some value of k , against the size of training set, when the size of training set is N ∈ { 10 , 20 , 30 , . . . , 210 } . 4 Note: for each N , select your training set by choosing the first b N/ 3 c rows of Class 0 and the first N − b N/ 3 c rows of Class 1 in the training set you created in 1(b)iii. Also, for each N , select the optimal k from a set starting from k = 1, increasing by 5. For example, if N = 200, the optimal k is selected from { 1 , 6 , 11 , . . . , 196 } . This plot is called a Learning Curve ."
   ]
  },
  {
   "cell_type": "code",
   "execution_count": 232,
   "metadata": {},
   "outputs": [
    {
     "name": "stdout",
     "output_type": "stream",
     "text": [
      "[ 10  20  30  40  50  60  70  80  90 100 110 120 130 140 150 160 170 180\n",
      " 190 200 210]\n",
      "[ 3.  6. 10. 13. 16. 20. 23. 26. 30. 33. 36. 40. 43. 46. 50. 53. 56. 60.\n",
      " 63. 66. 70.]\n"
     ]
    },
    {
     "data": {
      "text/plain": [
       "array([  7.,  14.,  20.,  27.,  34.,  40.,  47.,  54.,  60.,  67.,  74.,\n",
       "        80.,  87.,  94., 100., 107., 114., 120., 127., 134., 140.])"
      ]
     },
     "execution_count": 232,
     "metadata": {},
     "output_type": "execute_result"
    }
   ],
   "source": [
    "# Find the size of Training set N\n",
    "train_size = np.arange(10,211,10)\n",
    "\n",
    "# Retrieve the no of rows for Class 0/NO\n",
    "row0 = np.floor(train_size/3) \n",
    "\n",
    "# Retrieve the no of rows for Class 1/AB\n",
    "row1 = train_size - row0 \n",
    "print(train_size)\n",
    "print(row0)\n",
    "row1"
   ]
  },
  {
   "cell_type": "code",
   "execution_count": 233,
   "metadata": {},
   "outputs": [
    {
     "data": {
      "text/html": [
       "<div>\n",
       "<style scoped>\n",
       "    .dataframe tbody tr th:only-of-type {\n",
       "        vertical-align: middle;\n",
       "    }\n",
       "\n",
       "    .dataframe tbody tr th {\n",
       "        vertical-align: top;\n",
       "    }\n",
       "\n",
       "    .dataframe thead th {\n",
       "        text-align: right;\n",
       "    }\n",
       "</style>\n",
       "<table border=\"1\" class=\"dataframe\">\n",
       "  <thead>\n",
       "    <tr style=\"text-align: right;\">\n",
       "      <th></th>\n",
       "      <th>pelvic_incidence</th>\n",
       "      <th>pelvic_tilt</th>\n",
       "      <th>lumbar_lordosis_angle</th>\n",
       "      <th>sacral_slope</th>\n",
       "      <th>pelvic_radius</th>\n",
       "      <th>degree_spondylolisthesis</th>\n",
       "    </tr>\n",
       "  </thead>\n",
       "  <tbody>\n",
       "    <tr>\n",
       "      <th>0</th>\n",
       "      <td>63.027817</td>\n",
       "      <td>22.552586</td>\n",
       "      <td>39.609117</td>\n",
       "      <td>40.475232</td>\n",
       "      <td>98.672917</td>\n",
       "      <td>-0.254400</td>\n",
       "    </tr>\n",
       "    <tr>\n",
       "      <th>1</th>\n",
       "      <td>39.056951</td>\n",
       "      <td>10.060991</td>\n",
       "      <td>25.015378</td>\n",
       "      <td>28.995960</td>\n",
       "      <td>114.405425</td>\n",
       "      <td>4.564259</td>\n",
       "    </tr>\n",
       "    <tr>\n",
       "      <th>2</th>\n",
       "      <td>68.832021</td>\n",
       "      <td>22.218482</td>\n",
       "      <td>50.092194</td>\n",
       "      <td>46.613539</td>\n",
       "      <td>105.985135</td>\n",
       "      <td>-3.530317</td>\n",
       "    </tr>\n",
       "    <tr>\n",
       "      <th>3</th>\n",
       "      <td>69.297008</td>\n",
       "      <td>24.652878</td>\n",
       "      <td>44.311238</td>\n",
       "      <td>44.644130</td>\n",
       "      <td>101.868495</td>\n",
       "      <td>11.211523</td>\n",
       "    </tr>\n",
       "    <tr>\n",
       "      <th>4</th>\n",
       "      <td>49.712859</td>\n",
       "      <td>9.652075</td>\n",
       "      <td>28.317406</td>\n",
       "      <td>40.060784</td>\n",
       "      <td>108.168725</td>\n",
       "      <td>7.918501</td>\n",
       "    </tr>\n",
       "    <tr>\n",
       "      <th>...</th>\n",
       "      <td>...</td>\n",
       "      <td>...</td>\n",
       "      <td>...</td>\n",
       "      <td>...</td>\n",
       "      <td>...</td>\n",
       "      <td>...</td>\n",
       "    </tr>\n",
       "    <tr>\n",
       "      <th>305</th>\n",
       "      <td>47.903565</td>\n",
       "      <td>13.616688</td>\n",
       "      <td>36.000000</td>\n",
       "      <td>34.286877</td>\n",
       "      <td>117.449062</td>\n",
       "      <td>-4.245395</td>\n",
       "    </tr>\n",
       "    <tr>\n",
       "      <th>306</th>\n",
       "      <td>53.936748</td>\n",
       "      <td>20.721496</td>\n",
       "      <td>29.220534</td>\n",
       "      <td>33.215251</td>\n",
       "      <td>114.365845</td>\n",
       "      <td>-0.421010</td>\n",
       "    </tr>\n",
       "    <tr>\n",
       "      <th>307</th>\n",
       "      <td>61.446597</td>\n",
       "      <td>22.694968</td>\n",
       "      <td>46.170347</td>\n",
       "      <td>38.751628</td>\n",
       "      <td>125.670725</td>\n",
       "      <td>-2.707880</td>\n",
       "    </tr>\n",
       "    <tr>\n",
       "      <th>308</th>\n",
       "      <td>45.252792</td>\n",
       "      <td>8.693157</td>\n",
       "      <td>41.583126</td>\n",
       "      <td>36.559635</td>\n",
       "      <td>118.545842</td>\n",
       "      <td>0.214750</td>\n",
       "    </tr>\n",
       "    <tr>\n",
       "      <th>309</th>\n",
       "      <td>33.841641</td>\n",
       "      <td>5.073991</td>\n",
       "      <td>36.641233</td>\n",
       "      <td>28.767649</td>\n",
       "      <td>123.945244</td>\n",
       "      <td>-0.199249</td>\n",
       "    </tr>\n",
       "  </tbody>\n",
       "</table>\n",
       "<p>310 rows × 6 columns</p>\n",
       "</div>"
      ],
      "text/plain": [
       "     pelvic_incidence  pelvic_tilt  lumbar_lordosis_angle  sacral_slope  \\\n",
       "0           63.027817    22.552586              39.609117     40.475232   \n",
       "1           39.056951    10.060991              25.015378     28.995960   \n",
       "2           68.832021    22.218482              50.092194     46.613539   \n",
       "3           69.297008    24.652878              44.311238     44.644130   \n",
       "4           49.712859     9.652075              28.317406     40.060784   \n",
       "..                ...          ...                    ...           ...   \n",
       "305         47.903565    13.616688              36.000000     34.286877   \n",
       "306         53.936748    20.721496              29.220534     33.215251   \n",
       "307         61.446597    22.694968              46.170347     38.751628   \n",
       "308         45.252792     8.693157              41.583126     36.559635   \n",
       "309         33.841641     5.073991              36.641233     28.767649   \n",
       "\n",
       "     pelvic_radius  degree_spondylolisthesis  \n",
       "0        98.672917                 -0.254400  \n",
       "1       114.405425                  4.564259  \n",
       "2       105.985135                 -3.530317  \n",
       "3       101.868495                 11.211523  \n",
       "4       108.168725                  7.918501  \n",
       "..             ...                       ...  \n",
       "305     117.449062                 -4.245395  \n",
       "306     114.365845                 -0.421010  \n",
       "307     125.670725                 -2.707880  \n",
       "308     118.545842                  0.214750  \n",
       "309     123.945244                 -0.199249  \n",
       "\n",
       "[310 rows x 6 columns]"
      ]
     },
     "execution_count": 233,
     "metadata": {},
     "output_type": "execute_result"
    }
   ],
   "source": [
    "df_train = df.loc[:, df.columns != 'class']\n",
    "df_train"
   ]
  },
  {
   "cell_type": "code",
   "execution_count": 234,
   "metadata": {},
   "outputs": [],
   "source": [
    "# Find minimum test error for different size of Training set\n",
    "min_test_error = np.array([])\n",
    "for x, y, z in zip(row0, row1, train_size):\n",
    "    new_train = pd.concat([df.loc[df[\"class\"] == 0][0:int(x)], df.loc[df[\"class\"] == 1][:int(y)]])\n",
    "    X_train = new_train.loc[:, new_train.columns != 'class']\n",
    "    y_train = new_train['class']\n",
    "    test_error = np.array([])\n",
    "    for k in range(1,z,5):\n",
    "        \n",
    "        # Get test error for various training set size\n",
    "        # N_jobs is used to specify the number of jobs to run in parallel\n",
    "        knn = neighbors.KNeighborsClassifier(n_jobs=-1, n_neighbors=k)\n",
    "        knn.fit(X_train, y_train)\n",
    "        pred_test = knn.predict(X_test)\n",
    "        test_error = np.append(test_error, (np.mean(pred_test != y_test)))\n",
    "    min_test_error = np.append(min_test_error, np.min(test_error)) "
   ]
  },
  {
   "cell_type": "code",
   "execution_count": 235,
   "metadata": {},
   "outputs": [
    {
     "data": {
      "text/html": [
       "<div>\n",
       "<style scoped>\n",
       "    .dataframe tbody tr th:only-of-type {\n",
       "        vertical-align: middle;\n",
       "    }\n",
       "\n",
       "    .dataframe tbody tr th {\n",
       "        vertical-align: top;\n",
       "    }\n",
       "\n",
       "    .dataframe thead th {\n",
       "        text-align: right;\n",
       "    }\n",
       "</style>\n",
       "<table border=\"1\" class=\"dataframe\">\n",
       "  <thead>\n",
       "    <tr style=\"text-align: right;\">\n",
       "      <th></th>\n",
       "      <th>train_set_size</th>\n",
       "      <th>min_test_error</th>\n",
       "    </tr>\n",
       "  </thead>\n",
       "  <tbody>\n",
       "    <tr>\n",
       "      <th>0</th>\n",
       "      <td>10.0</td>\n",
       "      <td>0.25</td>\n",
       "    </tr>\n",
       "    <tr>\n",
       "      <th>1</th>\n",
       "      <td>20.0</td>\n",
       "      <td>0.20</td>\n",
       "    </tr>\n",
       "    <tr>\n",
       "      <th>2</th>\n",
       "      <td>30.0</td>\n",
       "      <td>0.22</td>\n",
       "    </tr>\n",
       "    <tr>\n",
       "      <th>3</th>\n",
       "      <td>40.0</td>\n",
       "      <td>0.25</td>\n",
       "    </tr>\n",
       "    <tr>\n",
       "      <th>4</th>\n",
       "      <td>50.0</td>\n",
       "      <td>0.30</td>\n",
       "    </tr>\n",
       "    <tr>\n",
       "      <th>5</th>\n",
       "      <td>60.0</td>\n",
       "      <td>0.29</td>\n",
       "    </tr>\n",
       "    <tr>\n",
       "      <th>6</th>\n",
       "      <td>70.0</td>\n",
       "      <td>0.29</td>\n",
       "    </tr>\n",
       "    <tr>\n",
       "      <th>7</th>\n",
       "      <td>80.0</td>\n",
       "      <td>0.29</td>\n",
       "    </tr>\n",
       "    <tr>\n",
       "      <th>8</th>\n",
       "      <td>90.0</td>\n",
       "      <td>0.29</td>\n",
       "    </tr>\n",
       "    <tr>\n",
       "      <th>9</th>\n",
       "      <td>100.0</td>\n",
       "      <td>0.26</td>\n",
       "    </tr>\n",
       "    <tr>\n",
       "      <th>10</th>\n",
       "      <td>110.0</td>\n",
       "      <td>0.22</td>\n",
       "    </tr>\n",
       "    <tr>\n",
       "      <th>11</th>\n",
       "      <td>120.0</td>\n",
       "      <td>0.17</td>\n",
       "    </tr>\n",
       "    <tr>\n",
       "      <th>12</th>\n",
       "      <td>130.0</td>\n",
       "      <td>0.16</td>\n",
       "    </tr>\n",
       "    <tr>\n",
       "      <th>13</th>\n",
       "      <td>140.0</td>\n",
       "      <td>0.15</td>\n",
       "    </tr>\n",
       "    <tr>\n",
       "      <th>14</th>\n",
       "      <td>150.0</td>\n",
       "      <td>0.13</td>\n",
       "    </tr>\n",
       "    <tr>\n",
       "      <th>15</th>\n",
       "      <td>160.0</td>\n",
       "      <td>0.13</td>\n",
       "    </tr>\n",
       "    <tr>\n",
       "      <th>16</th>\n",
       "      <td>170.0</td>\n",
       "      <td>0.13</td>\n",
       "    </tr>\n",
       "    <tr>\n",
       "      <th>17</th>\n",
       "      <td>180.0</td>\n",
       "      <td>0.10</td>\n",
       "    </tr>\n",
       "    <tr>\n",
       "      <th>18</th>\n",
       "      <td>190.0</td>\n",
       "      <td>0.09</td>\n",
       "    </tr>\n",
       "    <tr>\n",
       "      <th>19</th>\n",
       "      <td>200.0</td>\n",
       "      <td>0.09</td>\n",
       "    </tr>\n",
       "    <tr>\n",
       "      <th>20</th>\n",
       "      <td>210.0</td>\n",
       "      <td>0.08</td>\n",
       "    </tr>\n",
       "  </tbody>\n",
       "</table>\n",
       "</div>"
      ],
      "text/plain": [
       "    train_set_size  min_test_error\n",
       "0             10.0            0.25\n",
       "1             20.0            0.20\n",
       "2             30.0            0.22\n",
       "3             40.0            0.25\n",
       "4             50.0            0.30\n",
       "5             60.0            0.29\n",
       "6             70.0            0.29\n",
       "7             80.0            0.29\n",
       "8             90.0            0.29\n",
       "9            100.0            0.26\n",
       "10           110.0            0.22\n",
       "11           120.0            0.17\n",
       "12           130.0            0.16\n",
       "13           140.0            0.15\n",
       "14           150.0            0.13\n",
       "15           160.0            0.13\n",
       "16           170.0            0.13\n",
       "17           180.0            0.10\n",
       "18           190.0            0.09\n",
       "19           200.0            0.09\n",
       "20           210.0            0.08"
      ]
     },
     "execution_count": 235,
     "metadata": {},
     "output_type": "execute_result"
    }
   ],
   "source": [
    "learn_df = pd.DataFrame(np.column_stack([train_size, min_test_error]),\n",
    "                              columns=['train_set_size', 'min_test_error'])\n",
    "learn_df\n"
   ]
  },
  {
   "cell_type": "code",
   "execution_count": 236,
   "metadata": {},
   "outputs": [
    {
     "name": "stdout",
     "output_type": "stream",
     "text": [
      "Minimum test error found for variouse size of training set is:  0.08\n",
      "The size for which test error is minimum:  210\n"
     ]
    }
   ],
   "source": [
    "min_test = np.min(learn_df['min_test_error'] )\n",
    "print(\"Minimum test error found for variouse size of training set is: \", min_test)\n",
    "size = int(learn_df[learn_df['min_test_error'] == min_test]['train_set_size'])\n",
    "print(\"The size for which test error is minimum: \", size)"
   ]
  },
  {
   "cell_type": "code",
   "execution_count": 237,
   "metadata": {
    "scrolled": true
   },
   "outputs": [
    {
     "data": {
      "image/png": "[encoded data removed]",
      "text/plain": [
       "<Figure size 555x370 with 1 Axes>"
      ]
     },
     "metadata": {
      "needs_background": "light"
     },
     "output_type": "display_data"
    }
   ],
   "source": [
    "plt.figure(figsize=(15, 10), dpi= 37)\n",
    "\n",
    "# For drawing vertical and horizontal line across k* and its value\n",
    "plt.axvline(x = size, linewidth = 1, linestyle='dashed', color ='black')\n",
    "plt.axhline(y = min_test, linewidth = 1, linestyle='dashed', color ='black')\n",
    "\n",
    "# For plotting training set size and minimum test error\n",
    "plt.plot( 'train_set_size', 'min_test_error', data = learn_df, color='red', linewidth=3, label=\"Training Set Error\")\n",
    "\n",
    "# Plot the intersecting point along with annotation\n",
    "plt.plot(size, min_test,'ro',color ='red') \n",
    "ann = plt.annotate(\"(\" +  f'{size}' + \", \" + f'{min_test}' + \")\", xy = (size, min_test),fontsize = 20, weight = 'bold', \n",
    "                   xytext = (172,0.076), bbox=dict(boxstyle=\"rarrow,pad=0.3\", fc=\"papayawhip\", ec=\"b\", lw=1))\n",
    "plt.title('Learning Curve', fontsize = 35, weight = 'bold')\n",
    "plt.xlabel('Sample size of training set', fontsize=25)\n",
    "plt.ylabel('Minimum Test Error',fontsize=25)\n",
    "plt.show()"
   ]
  },
  {
   "cell_type": "markdown",
   "metadata": {},
   "source": [
    "From the above line graph we can deduce with increase in size of the training set, error rate generated by the KNN classifier decreases"
   ]
  },
  {
   "cell_type": "markdown",
   "metadata": {},
   "source": [
    "**SUMMARY**"
   ]
  },
  {
   "cell_type": "markdown",
   "metadata": {},
   "source": [
    "| Category | c (ii | c (iii |\n",
    "| ---  | --- | --- |\n",
    "| Min test error | 0.06 | 0.08 |\n",
    "| ---  | --- | --- | --- |\n",
    "| K value/ Size(c iii)  | 4 | 210 | \n"
   ]
  },
  {
   "cell_type": "markdown",
   "metadata": {},
   "source": [
    "## Replace the Euclidean metric with the following metrics and test them. Sum- marize the test errors (i.e., when k = k ∗ ) in a table. Use all of your training data and select the best k when { 1 , 6 , 11 , . . . , 196 }"
   ]
  },
  {
   "cell_type": "markdown",
   "metadata": {},
   "source": [
    "### i. Minkowski Distance: \n"
   ]
  },
  {
   "cell_type": "markdown",
   "metadata": {},
   "source": [
    "#### A. which becomes Manhattan Distance with p = 1."
   ]
  },
  {
   "cell_type": "code",
   "execution_count": 238,
   "metadata": {},
   "outputs": [],
   "source": [
    "# For Manhattan Distance with p = 1\n",
    "# N_jobs is used to specify the number of jobs to run in parallel\n",
    "# knn = neighbors.KNeighborsClassifier(n_jobs=-1, weights= 'uniform')\n",
    "\n",
    "man_error_test = np.array([])\n",
    "k_val = np.array([])\n",
    "span = range(1, 200, 5)\n",
    "y = train['class'].copy()\n",
    "#k_val, man_error_test = fetchTestError(span, X, y, 1)\n",
    "for k in range(1, 200, 5):\n",
    "    k_val = np.append(k_val, k)\n",
    "\n",
    "    # Setting the n neighbours in the interval of 3\n",
    "    knn.set_params(n_neighbors=k, p=1)\n",
    "    knn.fit(X, y)\n",
    "    pred_test = knn.predict(X_test)\n",
    "    man_error_test = np.append(man_error_test, (np.mean(pred_test != y_test)))\n",
    "  "
   ]
  },
  {
   "cell_type": "code",
   "execution_count": 239,
   "metadata": {},
   "outputs": [
    {
     "name": "stdout",
     "output_type": "stream",
     "text": [
      " Minimum test error for Mahattan distance found is : 0.11\n",
      " Values of k for which test error is found minimum using Mahattan with p = 1 is:\n",
      " 0     1\n",
      "1     6\n",
      "2    11\n",
      "5    26\n",
      "Name: k, dtype: int32\n"
     ]
    }
   ],
   "source": [
    "man_error_df = pd.DataFrame(np.column_stack([k_val, man_error_test]),\n",
    "                             columns=['k',  'manhattan_test_error'])\n",
    "\n",
    "#Retrieve k* value which is k value of the equivalent minimum test error\n",
    "min_test = np.min(man_error_df.manhattan_test_error)\n",
    "print(\" Minimum test error for Mahattan distance found is :\", min_test)\n",
    "min_ks = man_error_df[man_error_df['manhattan_test_error'] == min_test]['k']\n",
    "min_ks = min_ks.astype(int)\n",
    "print(\" Values of k for which test error is found minimum using Mahattan with p = 1 is:\\n\", min_ks)"
   ]
  },
  {
   "cell_type": "code",
   "execution_count": 240,
   "metadata": {},
   "outputs": [
    {
     "name": "stdout",
     "output_type": "stream",
     "text": [
      "Classification report for k:  1  value is:\n",
      "               precision    recall  f1-score   support\n",
      "\n",
      "           0       0.91      0.70      0.79        30\n",
      "           1       0.88      0.97      0.93        70\n",
      "\n",
      "    accuracy                           0.89       100\n",
      "   macro avg       0.90      0.84      0.86       100\n",
      "weighted avg       0.89      0.89      0.89       100\n",
      "\n",
      "Classification report for k:  6  value is:\n",
      "               precision    recall  f1-score   support\n",
      "\n",
      "           0       0.88      0.73      0.80        30\n",
      "           1       0.89      0.96      0.92        70\n",
      "\n",
      "    accuracy                           0.89       100\n",
      "   macro avg       0.89      0.85      0.86       100\n",
      "weighted avg       0.89      0.89      0.89       100\n",
      "\n",
      "Classification report for k:  11  value is:\n",
      "               precision    recall  f1-score   support\n",
      "\n",
      "           0       0.95      0.67      0.78        30\n",
      "           1       0.87      0.99      0.93        70\n",
      "\n",
      "    accuracy                           0.89       100\n",
      "   macro avg       0.91      0.83      0.86       100\n",
      "weighted avg       0.90      0.89      0.88       100\n",
      "\n",
      "Classification report for k:  26  value is:\n",
      "               precision    recall  f1-score   support\n",
      "\n",
      "           0       0.95      0.67      0.78        30\n",
      "           1       0.87      0.99      0.93        70\n",
      "\n",
      "    accuracy                           0.89       100\n",
      "   macro avg       0.91      0.83      0.86       100\n",
      "weighted avg       0.90      0.89      0.88       100\n",
      "\n"
     ]
    }
   ],
   "source": [
    "knn = neighbors.KNeighborsClassifier(n_jobs=-1)\n",
    "f1_scores = []\n",
    "max_f1 = []\n",
    "for k in min_ks:\n",
    "    knn.set_params(n_neighbors=k, p=1)\n",
    "    knn.fit(X, y)\n",
    "    y_pred = knn.predict(X_test)\n",
    "    print(\"Classification report for k: \",k,\" value is:\\n\",classification_report(y_test,y_pred))\n",
    "    f1 = f1_score(y_test, y_pred)\n",
    "    if len(max_f1) == 0:\n",
    "        max_f1.append([k, f1])\n",
    "    else:\n",
    "        if max_f1[0][1]  == f1:\n",
    "            max_f1.append([k, f1])\n",
    "        elif max_f1[0][1] < f1:\n",
    "            max_f1 = []\n",
    "            max_f1.append([k, f1])\n",
    "            \n",
    "    f1_scores.append(f1)"
   ]
  },
  {
   "cell_type": "code",
   "execution_count": 241,
   "metadata": {},
   "outputs": [
    {
     "name": "stdout",
     "output_type": "stream",
     "text": [
      "Max f1 score found for the data using KNN clasifier with Manhattan metrics:\n",
      "\n",
      "K Value:  11  F1 Score:  0.9261744966442954 \n",
      "\n",
      "K Value:  26  F1 Score:  0.9261744966442954 \n",
      "\n"
     ]
    }
   ],
   "source": [
    "print(\"Max f1 score found for the data using KNN clasifier with Manhattan metrics:\\n\")\n",
    "for item in max_f1:\n",
    "    print(\"K Value: \", item[0], \" F1 Score: \", item[1], \"\\n\")"
   ]
  },
  {
   "cell_type": "markdown",
   "metadata": {},
   "source": [
    "####  B. with log 10 ( p ) ∈ { 0 . 1 , 0 . 2 , 0 . 3 , . . . , 1 } . In this case, use the k ∗ you found for the Manhattan distance in 1(d)iA. What is the best log 10 ( p )?"
   ]
  },
  {
   "cell_type": "code",
   "execution_count": 242,
   "metadata": {},
   "outputs": [],
   "source": [
    "test_error_lg = []#np.array([]) \n",
    "for item in max_f1:\n",
    "    k = item[0]\n",
    "    knn = neighbors.KNeighborsClassifier(n_jobs=-1, n_neighbors=k)\n",
    "    y = train['class'].copy()\n",
    "    test_log =  np.array([])\n",
    "    f1_log = []\n",
    "    for p in np.logspace(0.1, 1, 10):\n",
    "        knn.set_params(p=p)\n",
    "        knn.fit(X, y)\n",
    "        y_pred = knn.predict(X_test)\n",
    "        pred_test = knn.predict(X_test)\n",
    "        test_log = np.append(test_log, (np.mean(pred_test != y_test)))\n",
    "    test_error_lg.append([test_log])\n",
    "    "
   ]
  },
  {
   "cell_type": "code",
   "execution_count": 243,
   "metadata": {},
   "outputs": [],
   "source": [
    "arr = np.array(np.arange(.1, 1.1, 0.1))"
   ]
  },
  {
   "cell_type": "code",
   "execution_count": 244,
   "metadata": {},
   "outputs": [
    {
     "name": "stdout",
     "output_type": "stream",
     "text": [
      " K and equivalent best log10 p value are:\n",
      " [[11, [array([0.1, 0.2, 0.8, 0.9, 1. ])]], [26, [array([0.1, 0.2, 0.4, 0.6])]]]\n"
     ]
    }
   ],
   "source": [
    "# Max_fi: It is list of list with containg list of k and f1score. k at index 0, f1 at index 1 eg [[11,.95],[26,.95]]\n",
    "# test_error_log: is a numpy array of array containing test error for various values of p\n",
    "\n",
    "log_arr = []\n",
    "for index, item in enumerate(test_error_lg):\n",
    "   \n",
    "    # get index of where test error is least\n",
    "    min_log =  np.where(item[0] == np.min(item) )\n",
    "    log_p_val = [arr[item] for item in min_log]\n",
    "    log_arr.append([max_f1[index][0], log_p_val] )\n",
    "print(\" K and equivalent best log10 p value are:\\n\",log_arr)"
   ]
  },
  {
   "cell_type": "code",
   "execution_count": 245,
   "metadata": {},
   "outputs": [
    {
     "name": "stdout",
     "output_type": "stream",
     "text": [
      "Classification report for k:  11  value is:\n",
      "               precision    recall  f1-score   support\n",
      "\n",
      "           0       0.95      0.67      0.78        30\n",
      "           1       0.87      0.99      0.93        70\n",
      "\n",
      "    accuracy                           0.89       100\n",
      "   macro avg       0.91      0.83      0.86       100\n",
      "weighted avg       0.90      0.89      0.88       100\n",
      "\n",
      "Classification report for k:  11  value is:\n",
      "               precision    recall  f1-score   support\n",
      "\n",
      "           0       1.00      0.63      0.78        30\n",
      "           1       0.86      1.00      0.93        70\n",
      "\n",
      "    accuracy                           0.89       100\n",
      "   macro avg       0.93      0.82      0.85       100\n",
      "weighted avg       0.90      0.89      0.88       100\n",
      "\n",
      "Classification report for k:  11  value is:\n",
      "               precision    recall  f1-score   support\n",
      "\n",
      "           0       1.00      0.63      0.78        30\n",
      "           1       0.86      1.00      0.93        70\n",
      "\n",
      "    accuracy                           0.89       100\n",
      "   macro avg       0.93      0.82      0.85       100\n",
      "weighted avg       0.90      0.89      0.88       100\n",
      "\n",
      "Classification report for k:  11  value is:\n",
      "               precision    recall  f1-score   support\n",
      "\n",
      "           0       1.00      0.63      0.78        30\n",
      "           1       0.86      1.00      0.93        70\n",
      "\n",
      "    accuracy                           0.89       100\n",
      "   macro avg       0.93      0.82      0.85       100\n",
      "weighted avg       0.90      0.89      0.88       100\n",
      "\n",
      "Classification report for k:  11  value is:\n",
      "               precision    recall  f1-score   support\n",
      "\n",
      "           0       1.00      0.63      0.78        30\n",
      "           1       0.86      1.00      0.93        70\n",
      "\n",
      "    accuracy                           0.89       100\n",
      "   macro avg       0.93      0.82      0.85       100\n",
      "weighted avg       0.90      0.89      0.88       100\n",
      "\n",
      "Classification report for k:  26  value is:\n",
      "               precision    recall  f1-score   support\n",
      "\n",
      "           0       0.95      0.70      0.81        30\n",
      "           1       0.88      0.99      0.93        70\n",
      "\n",
      "    accuracy                           0.90       100\n",
      "   macro avg       0.92      0.84      0.87       100\n",
      "weighted avg       0.91      0.90      0.90       100\n",
      "\n",
      "Classification report for k:  26  value is:\n",
      "               precision    recall  f1-score   support\n",
      "\n",
      "           0       0.95      0.70      0.81        30\n",
      "           1       0.88      0.99      0.93        70\n",
      "\n",
      "    accuracy                           0.90       100\n",
      "   macro avg       0.92      0.84      0.87       100\n",
      "weighted avg       0.91      0.90      0.90       100\n",
      "\n",
      "Classification report for k:  26  value is:\n",
      "               precision    recall  f1-score   support\n",
      "\n",
      "           0       0.95      0.70      0.81        30\n",
      "           1       0.88      0.99      0.93        70\n",
      "\n",
      "    accuracy                           0.90       100\n",
      "   macro avg       0.92      0.84      0.87       100\n",
      "weighted avg       0.91      0.90      0.90       100\n",
      "\n",
      "Classification report for k:  26  value is:\n",
      "               precision    recall  f1-score   support\n",
      "\n",
      "           0       1.00      0.67      0.80        30\n",
      "           1       0.88      1.00      0.93        70\n",
      "\n",
      "    accuracy                           0.90       100\n",
      "   macro avg       0.94      0.83      0.87       100\n",
      "weighted avg       0.91      0.90      0.89       100\n",
      "\n"
     ]
    }
   ],
   "source": [
    "# After getting best log10(p) by finding least test error, we need to shorten the option\n",
    "# So next step is  to find be max f1 score\n",
    "knn = neighbors.KNeighborsClassifier(n_jobs=-1)\n",
    "log_f1 = []\n",
    "for item in log_arr:\n",
    "    k = item[0]\n",
    "    max_f1 = []\n",
    "    logp = item[1]\n",
    "    y = train['class'].copy()\n",
    "    for i in logp[0]:\n",
    "        p1 = 10 ** i\n",
    "        knn = neighbors.KNeighborsClassifier(n_jobs=-1, n_neighbors=k, p = p1)\n",
    "        knn.fit(X, y)\n",
    "        y_pred = knn.predict(X_test)\n",
    "        print(\"Classification report for k: \",k,\" value is:\\n\",classification_report(y_test,y_pred))\n",
    "        f1 = f1_score(y_test, y_pred)\n",
    "        \n",
    "        # Find max f1 score for all the best log10(p)\n",
    "        if len(max_f1) == 0:\n",
    "            max_f1.append([k, f1,i])\n",
    "        else:\n",
    "            if max_f1[0][1]  == f1:\n",
    "                max_f1.append([k, f1, i])\n",
    "            elif max_f1[0][1] < f1:\n",
    "                max_f1 = []\n",
    "                max_f1.append([k, f1, i])\n",
    "    log_f1.append(max_f1)"
   ]
  },
  {
   "cell_type": "code",
   "execution_count": 246,
   "metadata": {},
   "outputs": [
    {
     "name": "stdout",
     "output_type": "stream",
     "text": [
      "For K: 11  best log10p valaues are:\n",
      "\n",
      "0.2\n",
      "0.8\n",
      "0.9\n",
      "1.0\n",
      "For K: 26  best log10p valaues are:\n",
      "\n",
      "0.6\n"
     ]
    }
   ],
   "source": [
    "# We got some options by selecting least test score. For further reducing the option for log10p, we are using best f1 score\n",
    "for item in log_f1:\n",
    "    print(\"For K:\", item[0][0],\" best log10p valaues are:\\n\")\n",
    "    for sub in item:\n",
    "        print(sub[2])\n",
    "    "
   ]
  },
  {
   "cell_type": "markdown",
   "metadata": {},
   "source": [
    "#### C. which becomes Chebyshev Distance with p → ∞"
   ]
  },
  {
   "cell_type": "code",
   "execution_count": 247,
   "metadata": {},
   "outputs": [],
   "source": [
    "# Function to find  test error \n",
    "def fetchTestError(knn, ytrain = y, Xtrain = X, span = range(1, 200, 5)):\n",
    "    test_error = np.array([])\n",
    "    k_val = np.array([])\n",
    "    for k in range(1, 200, 5):\n",
    "        k_val = np.append(k_val, k)\n",
    "        knn.set_params(n_neighbors=k)\n",
    "        knn.fit(Xtrain, ytrain)\n",
    "        pred_test = knn.predict(X_test)\n",
    "        test_error = np.append(test_error, (np.mean(pred_test != y_test)))\n",
    "    return k_val, test_error\n",
    "\n",
    "# Function to find least test error\n",
    "# input : test_error:Numpy error containing all the test error\n",
    "#         k_val : containing range value of k\n",
    "def leastErr(error_test, k_val):\n",
    "    \n",
    "    # Create a dataframe containing k value and its test error\n",
    "    error_df = pd.DataFrame(np.column_stack([k_val, error_test]),\n",
    "                             columns=['k',  'test_error'])\n",
    "\n",
    "    # Find the least test error and its corresponding k value\n",
    "    least_error = np.min(error_df.test_error)\n",
    "    min_w = error_df[error_df['test_error'] == least_error]['k']\n",
    "    min_w = min_w.astype(int)\n",
    "    return least_error, min_w"
   ]
  },
  {
   "cell_type": "code",
   "execution_count": 248,
   "metadata": {},
   "outputs": [
    {
     "data": {
      "text/plain": [
       "array([0.13, 0.1 , 0.12, 0.08, 0.11, 0.12, 0.12, 0.1 , 0.13, 0.12, 0.12,\n",
       "       0.12, 0.14, 0.13, 0.14, 0.11, 0.14, 0.12, 0.15, 0.14, 0.19, 0.18,\n",
       "       0.18, 0.18, 0.21, 0.21, 0.25, 0.28, 0.3 , 0.3 , 0.3 , 0.3 , 0.3 ,\n",
       "       0.3 , 0.3 , 0.3 , 0.3 , 0.3 , 0.3 , 0.3 ])"
      ]
     },
     "execution_count": 248,
     "metadata": {},
     "output_type": "execute_result"
    }
   ],
   "source": [
    "# Majority Polling with Chebyshev metrics\n",
    "knn = neighbors.KNeighborsClassifier(n_jobs=-1, metric='chebyshev')\n",
    "y = train['class'].copy()\n",
    "k_val, cheby_test_error = fetchTestError(knn, y)\n",
    "cheby_test_error"
   ]
  },
  {
   "cell_type": "code",
   "execution_count": 249,
   "metadata": {},
   "outputs": [
    {
     "name": "stdout",
     "output_type": "stream",
     "text": [
      " Least test error found using chebyshev:  0.08\n",
      " Index and K value for the Least test error found using chebyshev:\n",
      " 3    16\n",
      "Name: k, dtype: int32\n"
     ]
    }
   ],
   "source": [
    "least_cheby_error, min_k = leastErr( cheby_test_error, k_val)\n",
    "print(\" Least test error found using chebyshev: \",least_cheby_error)\n",
    "print(\" Index and K value for the Least test error found using chebyshev:\\n\",min_k)"
   ]
  },
  {
   "cell_type": "markdown",
   "metadata": {},
   "source": [
    "### ii. Mahalanobis Distance"
   ]
  },
  {
   "cell_type": "code",
   "execution_count": 250,
   "metadata": {},
   "outputs": [
    {
     "data": {
      "text/plain": [
       "array([0.16, 0.15, 0.18, 0.17, 0.2 , 0.21, 0.19, 0.2 , 0.22, 0.23, 0.22,\n",
       "       0.21, 0.22, 0.23, 0.23, 0.23, 0.23, 0.24, 0.23, 0.23, 0.23, 0.25,\n",
       "       0.25, 0.26, 0.28, 0.3 , 0.3 , 0.3 , 0.3 , 0.3 , 0.3 , 0.3 , 0.3 ,\n",
       "       0.3 , 0.3 , 0.3 , 0.3 , 0.3 , 0.3 , 0.3 ])"
      ]
     },
     "execution_count": 250,
     "metadata": {},
     "output_type": "execute_result"
    }
   ],
   "source": [
    "# Majority polling with Mahalanobis distance\n",
    "V =np.cov(X)\n",
    "VI = np.linalg.inv(np.cov(X.T)).T\n",
    "knn = neighbors.KNeighborsClassifier(n_jobs=-1, metric='mahalanobis', algorithm='brute', \n",
    "                                      metric_params= {'V': V, 'VI': VI} )\n",
    "y = train['class'].copy()\n",
    "k_val, mah_test_error = fetchTestError(knn, y)\n",
    "mah_test_error "
   ]
  },
  {
   "cell_type": "code",
   "execution_count": 251,
   "metadata": {},
   "outputs": [
    {
     "name": "stdout",
     "output_type": "stream",
     "text": [
      " Least test error found using Mahalanobis:  0.15\n",
      " Index and K value for the Least test error found using mah_error_least:\n",
      " 1    6\n",
      "Name: k, dtype: int32\n"
     ]
    }
   ],
   "source": [
    "mah_error_least, min_k = leastErr(mah_test_error , k_val)\n",
    "print(\" Least test error found using Mahalanobis: \",mah_error_least)\n",
    "print(\" Index and K value for the Least test error found using mah_error_least:\\n\",min_k)"
   ]
  },
  {
   "cell_type": "markdown",
   "metadata": {},
   "source": [
    "### SUMMARY"
   ]
  },
  {
   "cell_type": "markdown",
   "metadata": {},
   "source": [
    "| Category | Euclidean metrics with Polling | Manhattan metrics with Polling | Chebyshev metrics with Polling | Mahalanobis with Polling |\n",
    "| ---  | --- | --- | --- |--- |\n",
    "| Min test error | 0.11 | 0.11 | 0.08 | 0.15 |\n",
    "| ---  | --- | --- | --- | --- |\n",
    "| K value  | 1, 6, 11, 26 | 11, 26 | 16 | 6 |\n",
    "| ---  | --- | --- | --- | --- |\n",
    "| log10P | --- | K(11):0.1, 0.2, 0.8, 0.9, 1.0   K(26):0.1, 0.2, 0.4, 0.6 | --- | --- | --- |\n",
    "| ---  | --- | --- | --- | --- |\n",
    "| Further deduction of option using f1 score | 11, 26 | K(11):0.2, 0.8, 0.9, 1.0  K(26):0.6 | --- | --- |\n",
    "\n",
    "\n",
    "Among all the above metrics Chebyshev metric produces least error rate : **0.08**\n"
   ]
  },
  {
   "cell_type": "markdown",
   "metadata": {},
   "source": [
    "## The majority polling decision can be replaced by weighted decision,\n",
    "in which the weight of each point in voting is inversely proportional to its distance from the query/test data point. In this case, closer neighbors of a query point will have a greater influence than neighbors which are further away. Use weighted voting with Euclidean, Manhattan, and Chebyshev distances and report the best test errors when k ∈ { 1 , 6 , 11 , 16 , . . . , 196 } ."
   ]
  },
  {
   "cell_type": "markdown",
   "metadata": {},
   "source": [
    "#### Euclidean with weights"
   ]
  },
  {
   "cell_type": "code",
   "execution_count": 252,
   "metadata": {},
   "outputs": [
    {
     "data": {
      "text/plain": [
       "array([0.13, 0.1 , 0.12, 0.11, 0.11, 0.11, 0.11, 0.11, 0.11, 0.11, 0.11,\n",
       "       0.11, 0.11, 0.11, 0.11, 0.12, 0.12, 0.13, 0.14, 0.14, 0.12, 0.14,\n",
       "       0.14, 0.13, 0.13, 0.13, 0.14, 0.14, 0.17, 0.19, 0.19, 0.2 , 0.23,\n",
       "       0.25, 0.27, 0.27, 0.27, 0.27, 0.28, 0.28])"
      ]
     },
     "execution_count": 252,
     "metadata": {},
     "output_type": "execute_result"
    }
   ],
   "source": [
    "# Find test error for Euclidean metric\n",
    "knn = neighbors.KNeighborsClassifier(n_jobs=-1, weights='distance')\n",
    "y = train['class'].copy()\n",
    "k_val, euc_test_error_weight = fetchTestError(knn,y)\n",
    "euc_test_error_weight\n",
    "\n"
   ]
  },
  {
   "cell_type": "code",
   "execution_count": 253,
   "metadata": {},
   "outputs": [
    {
     "name": "stdout",
     "output_type": "stream",
     "text": [
      " Least test error found using Euclidean  metric with weights as distance :  0.1\n",
      " Index and K value for the Least test error found using Euclidean:\n",
      "  1    6\n",
      "Name: k, dtype: int32\n"
     ]
    }
   ],
   "source": [
    "# Find least test error for Euclidean metric\n",
    "least_euc_error,min_k_w = leastErr(euc_test_error_weight, k_val)\n",
    "print(\" Least test error found using Euclidean  metric with weights as distance : \",least_euc_error)\n",
    "print(\" Index and K value for the Least test error found using Euclidean:\\n \",min_k_w)"
   ]
  },
  {
   "cell_type": "markdown",
   "metadata": {},
   "source": [
    "#### Manhattan with weights"
   ]
  },
  {
   "cell_type": "code",
   "execution_count": 254,
   "metadata": {},
   "outputs": [
    {
     "data": {
      "text/plain": [
       "array([0.11, 0.11, 0.11, 0.12, 0.11, 0.1 , 0.11, 0.11, 0.11, 0.11, 0.12,\n",
       "       0.12, 0.13, 0.13, 0.11, 0.12, 0.14, 0.14, 0.13, 0.13, 0.15, 0.15,\n",
       "       0.15, 0.15, 0.15, 0.15, 0.15, 0.16, 0.17, 0.18, 0.19, 0.21, 0.24,\n",
       "       0.25, 0.27, 0.27, 0.27, 0.27, 0.28, 0.29])"
      ]
     },
     "execution_count": 254,
     "metadata": {},
     "output_type": "execute_result"
    }
   ],
   "source": [
    "# Find test error for Manhattan metric\n",
    "knn = neighbors.KNeighborsClassifier(n_jobs=-1, weights='distance',p=1)\n",
    "y = train['class'].copy()\n",
    "k_val, man_test_error_weight = fetchTestError(knn,y)\n",
    "man_test_error_weight"
   ]
  },
  {
   "cell_type": "code",
   "execution_count": 255,
   "metadata": {},
   "outputs": [
    {
     "name": "stdout",
     "output_type": "stream",
     "text": [
      " Least test error found using Manhattan  metric and weights as distance:  0.1\n",
      " Index and K value for the Least test error found using Manhattan:\n",
      "  5    26\n",
      "Name: k, dtype: int32\n"
     ]
    }
   ],
   "source": [
    "# Find least test error for Manhattan metric\n",
    "least_man_error,min_k_w = leastErr(man_test_error_weight, k_val)\n",
    "print(\" Least test error found using Manhattan  metric and weights as distance: \",least_man_error)\n",
    "print(\" Index and K value for the Least test error found using Manhattan:\\n \",min_k_w)"
   ]
  },
  {
   "cell_type": "markdown",
   "metadata": {},
   "source": [
    "#### Chebyshev with weights"
   ]
  },
  {
   "cell_type": "code",
   "execution_count": 256,
   "metadata": {},
   "outputs": [
    {
     "data": {
      "text/plain": [
       "array([0.13, 0.13, 0.12, 0.11, 0.12, 0.12, 0.11, 0.11, 0.11, 0.12, 0.12,\n",
       "       0.12, 0.11, 0.13, 0.12, 0.12, 0.12, 0.14, 0.13, 0.14, 0.14, 0.14,\n",
       "       0.14, 0.14, 0.15, 0.14, 0.16, 0.16, 0.18, 0.19, 0.21, 0.21, 0.23,\n",
       "       0.26, 0.26, 0.26, 0.27, 0.27, 0.27, 0.28])"
      ]
     },
     "execution_count": 256,
     "metadata": {},
     "output_type": "execute_result"
    }
   ],
   "source": [
    "# Find test error for Chebyshev metric\n",
    "knn = neighbors.KNeighborsClassifier(n_jobs=-1, weights='distance',metric='chebyshev')\n",
    "y = train['class'].copy()\n",
    "k_val,cheby_test_error_weight = fetchTestError(knn,y)\n",
    "cheby_test_error_weight"
   ]
  },
  {
   "cell_type": "code",
   "execution_count": 257,
   "metadata": {},
   "outputs": [
    {
     "name": "stdout",
     "output_type": "stream",
     "text": [
      " Least test error found using chebyshev metric and weights as distance:  0.11\n",
      " Index and K value for the Least test error found using chebyshev:\n",
      " 3     16\n",
      "6     31\n",
      "7     36\n",
      "8     41\n",
      "12    61\n",
      "Name: k, dtype: int32\n"
     ]
    }
   ],
   "source": [
    "# Find least test error for Chebyshev metric\n",
    "least_cheby_error,min_k_w = leastErr(cheby_test_error_weight, k_val)\n",
    "print(\" Least test error found using chebyshev metric and weights as distance: \",least_cheby_error)\n",
    "print(\" Index and K value for the Least test error found using chebyshev:\\n\",min_k_w)"
   ]
  },
  {
   "cell_type": "markdown",
   "metadata": {},
   "source": [
    "#### SUMMARY"
   ]
  },
  {
   "cell_type": "markdown",
   "metadata": {},
   "source": [
    "| Category | Euclidean metrics & weights | Manhattan metrics & weights | Chebyshev metrics & weights |\n",
    "| ---  | --- | --- | --- |\n",
    "| Min test error | 0.10 | 0.10 | 0.11 |\n",
    "| ---  | --- | --- | --- |\n",
    "| K value  | 6 | 26 | 16, 31, 36, 41, 61 |\n"
   ]
  },
  {
   "cell_type": "markdown",
   "metadata": {},
   "source": [
    "## What is the lowest training error rate you achieved in this homework?"
   ]
  },
  {
   "cell_type": "markdown",
   "metadata": {},
   "source": [
    "The lowest training error rate achieved is **0** when nearest neighbour is 1. i.e  when **k = 1**.\n",
    "When a model is trained using KNN classifier and each point is neighbour of each other it will lead to 0 training \n",
    "error rate."
   ]
  },
  {
   "cell_type": "markdown",
   "metadata": {},
   "source": [
    "**References**"
   ]
  },
  {
   "cell_type": "markdown",
   "metadata": {},
   "source": [
    "https://discuss.analyticsvidhya.com/t/loading-arff-type-files-in-python/27419\n",
    "https://www.youtube.com/watch?v=mHkdcA-zyYE&ab_channel=UpdatascienceUpdatascience\n",
    "https://www.mygreatlearning.com/blog/label-encoding-in-python/\n",
    "https://www.kdnuggets.com/2020/11/most-popular-distance-metrics-knn.html\n",
    "https://stackoverflow.com/questions/34643548/how-to-use-mahalanobis-distance-in-sklearn-distancemetrics\n",
    "https://stackoverflow.com/questions/48655801/tables-in-markdown-in-jupyter\n",
    "https://medium.com/@luigi.fiori.lf0303/distance-metrics-and-k-nearest-neighbor-knn-1b840969c0f4"
   ]
  }
 ],
 "metadata": {
  "kernelspec": {
   "display_name": "Python 3",
   "language": "python",
   "name": "python3"
  },
  "language_info": {
   "codemirror_mode": {
    "name": "ipython",
    "version": 3
   },
   "file_extension": ".py",
   "mimetype": "text/x-python",
   "name": "python",
   "nbconvert_exporter": "python",
   "pygments_lexer": "ipython3",
   "version": "3.8.3"
  },
  "toc": {
   "base_numbering": 1,
   "nav_menu": {},
   "number_sections": true,
   "sideBar": true,
   "skip_h1_title": false,
   "title_cell": "Table of Contents",
   "title_sidebar": "Contents",
   "toc_cell": false,
   "toc_position": {},
   "toc_section_display": true,
   "toc_window_display": false
  }
 },
 "nbformat": 4,
 "nbformat_minor": 4
}
